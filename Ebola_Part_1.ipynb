{
  "nbformat": 4,
  "nbformat_minor": 0,
  "metadata": {
    "colab": {
      "name": "Ebola - Part 1.ipynb",
      "provenance": [],
      "collapsed_sections": []
    },
    "kernelspec": {
      "name": "python3",
      "display_name": "Python 3"
    }
  },
  "cells": [
    {
      "cell_type": "markdown",
      "metadata": {
        "id": "7Vt5oIhpGSKe"
      },
      "source": [
        "# Retrieve bioactivity data from ChEMBL database\r\n",
        " A follow along project on drug discovery for *Zaire ebolavirus*"
      ]
    },
    {
      "cell_type": "markdown",
      "metadata": {
        "id": "9G5cCHYiyJc0"
      },
      "source": [
        "Target protein: **Human GAR transformylase**"
      ]
    },
    {
      "cell_type": "markdown",
      "metadata": {
        "id": "q9fJwG8By6E8"
      },
      "source": [
        "Digital Mentor: Data Professor"
      ]
    },
    {
      "cell_type": "markdown",
      "metadata": {
        "id": "Ujm_a-DQsvBs"
      },
      "source": [
        "###Install and import libraries"
      ]
    },
    {
      "cell_type": "markdown",
      "metadata": {
        "id": "05Hc37l1n8gL"
      },
      "source": [
        "Install CheMBL web service package"
      ]
    },
    {
      "cell_type": "code",
      "metadata": {
        "colab": {
          "base_uri": "https://localhost:8080/"
        },
        "id": "BzCn5RlHn8AH",
        "outputId": "0d6d085a-2d6f-4b07-f3ad-5f97f62a5cec"
      },
      "source": [
        "!pip install chembl_webresource_client"
      ],
      "execution_count": 1,
      "outputs": [
        {
          "output_type": "stream",
          "text": [
            "Collecting chembl_webresource_client\n",
            "\u001b[?25l  Downloading https://files.pythonhosted.org/packages/2e/48/0db29040c92726fcc6f99a5bc89e0ea8cf5a9d84753ebaaf53108792da2a/chembl-webresource-client-0.10.2.tar.gz (51kB)\n",
            "\r\u001b[K     |██████▍                         | 10kB 19.9MB/s eta 0:00:01\r\u001b[K     |████████████▊                   | 20kB 12.0MB/s eta 0:00:01\r\u001b[K     |███████████████████             | 30kB 8.8MB/s eta 0:00:01\r\u001b[K     |█████████████████████████▍      | 40kB 7.3MB/s eta 0:00:01\r\u001b[K     |███████████████████████████████▊| 51kB 4.4MB/s eta 0:00:01\r\u001b[K     |████████████████████████████████| 61kB 3.5MB/s \n",
            "\u001b[?25hRequirement already satisfied: urllib3 in /usr/local/lib/python3.6/dist-packages (from chembl_webresource_client) (1.24.3)\n",
            "Requirement already satisfied: requests>=2.18.4 in /usr/local/lib/python3.6/dist-packages (from chembl_webresource_client) (2.23.0)\n",
            "Collecting requests-cache>=0.4.7\n",
            "  Downloading https://files.pythonhosted.org/packages/7f/55/9b1c40eb83c16d8fc79c5f6c2ffade04208b080670fbfc35e0a5effb5a92/requests_cache-0.5.2-py2.py3-none-any.whl\n",
            "Requirement already satisfied: easydict in /usr/local/lib/python3.6/dist-packages (from chembl_webresource_client) (1.9)\n",
            "Requirement already satisfied: idna<3,>=2.5 in /usr/local/lib/python3.6/dist-packages (from requests>=2.18.4->chembl_webresource_client) (2.10)\n",
            "Requirement already satisfied: certifi>=2017.4.17 in /usr/local/lib/python3.6/dist-packages (from requests>=2.18.4->chembl_webresource_client) (2020.12.5)\n",
            "Requirement already satisfied: chardet<4,>=3.0.2 in /usr/local/lib/python3.6/dist-packages (from requests>=2.18.4->chembl_webresource_client) (3.0.4)\n",
            "Building wheels for collected packages: chembl-webresource-client\n",
            "  Building wheel for chembl-webresource-client (setup.py) ... \u001b[?25l\u001b[?25hdone\n",
            "  Created wheel for chembl-webresource-client: filename=chembl_webresource_client-0.10.2-cp36-none-any.whl size=55663 sha256=0334b94e7ded518b79b2d9c7edd990f103612f2416e3bccbb3de4eb7054c75eb\n",
            "  Stored in directory: /root/.cache/pip/wheels/e6/96/19/3f042bfda7c669bfe24c8278477f57b0fbbf3e488b4c09e3a8\n",
            "Successfully built chembl-webresource-client\n",
            "Installing collected packages: requests-cache, chembl-webresource-client\n",
            "Successfully installed chembl-webresource-client-0.10.2 requests-cache-0.5.2\n"
          ],
          "name": "stdout"
        }
      ]
    },
    {
      "cell_type": "markdown",
      "metadata": {
        "id": "Bx9AJQURolBs"
      },
      "source": [
        "Import libraries"
      ]
    },
    {
      "cell_type": "code",
      "metadata": {
        "id": "ZLxY44qqn5-A"
      },
      "source": [
        "import pandas as pd\r\n",
        "from chembl_webresource_client.new_client import new_client\r\n",
        "import matplotlib.pyplot as plt"
      ],
      "execution_count": 3,
      "outputs": []
    },
    {
      "cell_type": "markdown",
      "metadata": {
        "id": "0TtoMx1UseR_"
      },
      "source": [
        "###Search for the target protein"
      ]
    },
    {
      "cell_type": "code",
      "metadata": {
        "colab": {
          "base_uri": "https://localhost:8080/",
          "height": 279
        },
        "id": "vnZvjhk6soY5",
        "outputId": "1bbe625e-4908-4489-8392-11d8dae658ae"
      },
      "source": [
        "# retrieve data for Subtilisin/kexin type 6\r\n",
        "target = new_client.target\r\n",
        "target_query = target.search('GAR transformylase')\r\n",
        "targets = pd.DataFrame.from_dict(target_query)\r\n",
        "targets.head()"
      ],
      "execution_count": 5,
      "outputs": [
        {
          "output_type": "execute_result",
          "data": {
            "text/html": [
              "<div>\n",
              "<style scoped>\n",
              "    .dataframe tbody tr th:only-of-type {\n",
              "        vertical-align: middle;\n",
              "    }\n",
              "\n",
              "    .dataframe tbody tr th {\n",
              "        vertical-align: top;\n",
              "    }\n",
              "\n",
              "    .dataframe thead th {\n",
              "        text-align: right;\n",
              "    }\n",
              "</style>\n",
              "<table border=\"1\" class=\"dataframe\">\n",
              "  <thead>\n",
              "    <tr style=\"text-align: right;\">\n",
              "      <th></th>\n",
              "      <th>cross_references</th>\n",
              "      <th>organism</th>\n",
              "      <th>pref_name</th>\n",
              "      <th>score</th>\n",
              "      <th>species_group_flag</th>\n",
              "      <th>target_chembl_id</th>\n",
              "      <th>target_components</th>\n",
              "      <th>target_type</th>\n",
              "      <th>tax_id</th>\n",
              "    </tr>\n",
              "  </thead>\n",
              "  <tbody>\n",
              "    <tr>\n",
              "      <th>0</th>\n",
              "      <td>[{'xref_id': 'P22102', 'xref_name': None, 'xre...</td>\n",
              "      <td>Homo sapiens</td>\n",
              "      <td>GAR transformylase</td>\n",
              "      <td>30.0</td>\n",
              "      <td>False</td>\n",
              "      <td>CHEMBL3972</td>\n",
              "      <td>[{'accession': 'P22102', 'component_descriptio...</td>\n",
              "      <td>SINGLE PROTEIN</td>\n",
              "      <td>9606</td>\n",
              "    </tr>\n",
              "    <tr>\n",
              "      <th>1</th>\n",
              "      <td>[]</td>\n",
              "      <td>Mus musculus</td>\n",
              "      <td>GAR transformylase</td>\n",
              "      <td>30.0</td>\n",
              "      <td>False</td>\n",
              "      <td>CHEMBL3690</td>\n",
              "      <td>[{'accession': 'Q64737', 'component_descriptio...</td>\n",
              "      <td>SINGLE PROTEIN</td>\n",
              "      <td>10090</td>\n",
              "    </tr>\n",
              "    <tr>\n",
              "      <th>2</th>\n",
              "      <td>[]</td>\n",
              "      <td>Homo sapiens</td>\n",
              "      <td>GAR transformylase/AICAR transformylase</td>\n",
              "      <td>28.0</td>\n",
              "      <td>False</td>\n",
              "      <td>CHEMBL3430882</td>\n",
              "      <td>[{'accession': 'P31939', 'component_descriptio...</td>\n",
              "      <td>PROTEIN FAMILY</td>\n",
              "      <td>9606</td>\n",
              "    </tr>\n",
              "    <tr>\n",
              "      <th>3</th>\n",
              "      <td>[]</td>\n",
              "      <td>Homo sapiens</td>\n",
              "      <td>Thymidylate synthase/GAR transformylase/AICAR ...</td>\n",
              "      <td>23.0</td>\n",
              "      <td>False</td>\n",
              "      <td>CHEMBL3885528</td>\n",
              "      <td>[{'accession': 'P04818', 'component_descriptio...</td>\n",
              "      <td>PROTEIN FAMILY</td>\n",
              "      <td>9606</td>\n",
              "    </tr>\n",
              "    <tr>\n",
              "      <th>4</th>\n",
              "      <td>[{'xref_id': 'P31939', 'xref_name': None, 'xre...</td>\n",
              "      <td>Homo sapiens</td>\n",
              "      <td>AICAR transformylase</td>\n",
              "      <td>14.0</td>\n",
              "      <td>False</td>\n",
              "      <td>CHEMBL2518</td>\n",
              "      <td>[{'accession': 'P31939', 'component_descriptio...</td>\n",
              "      <td>SINGLE PROTEIN</td>\n",
              "      <td>9606</td>\n",
              "    </tr>\n",
              "  </tbody>\n",
              "</table>\n",
              "</div>"
            ],
            "text/plain": [
              "                                    cross_references  ... tax_id\n",
              "0  [{'xref_id': 'P22102', 'xref_name': None, 'xre...  ...   9606\n",
              "1                                                 []  ...  10090\n",
              "2                                                 []  ...   9606\n",
              "3                                                 []  ...   9606\n",
              "4  [{'xref_id': 'P31939', 'xref_name': None, 'xre...  ...   9606\n",
              "\n",
              "[5 rows x 9 columns]"
            ]
          },
          "metadata": {
            "tags": []
          },
          "execution_count": 5
        }
      ]
    },
    {
      "cell_type": "code",
      "metadata": {
        "colab": {
          "base_uri": "https://localhost:8080/"
        },
        "id": "htq6rbI4xFgF",
        "outputId": "54227d22-6553-46e8-ebcc-89ab2ea65d81"
      },
      "source": [
        "# select Human Subtilisin/kexin type 6 (index = 1)\r\n",
        "target_protein = targets.iloc[0,:]\r\n",
        "target_id = target_protein['target_chembl_id']\r\n",
        "print(target_id)"
      ],
      "execution_count": null,
      "outputs": [
        {
          "output_type": "stream",
          "text": [
            "CHEMBL3972\n"
          ],
          "name": "stdout"
        }
      ]
    },
    {
      "cell_type": "markdown",
      "metadata": {
        "id": "R8iw_kPtzd_h"
      },
      "source": [
        "###Retrieve the bioactivity data for *Human GAR transformylase (CHEMBL3972)*"
      ]
    },
    {
      "cell_type": "code",
      "metadata": {
        "colab": {
          "base_uri": "https://localhost:8080/",
          "height": 400
        },
        "id": "ezXcUvJUznjs",
        "outputId": "9e431efc-abf3-49f2-a453-070fe9b02b15"
      },
      "source": [
        "activity = new_client.activity\r\n",
        "res = activity.filter(target_chembl_id=target_id).filter(standard_type='IC50')\r\n",
        "df = pd.DataFrame.from_dict(res)\r\n",
        "print(df.shape)\r\n",
        "df.head()"
      ],
      "execution_count": null,
      "outputs": [
        {
          "output_type": "stream",
          "text": [
            "(90, 43)\n"
          ],
          "name": "stdout"
        },
        {
          "output_type": "execute_result",
          "data": {
            "text/html": [
              "<div>\n",
              "<style scoped>\n",
              "    .dataframe tbody tr th:only-of-type {\n",
              "        vertical-align: middle;\n",
              "    }\n",
              "\n",
              "    .dataframe tbody tr th {\n",
              "        vertical-align: top;\n",
              "    }\n",
              "\n",
              "    .dataframe thead th {\n",
              "        text-align: right;\n",
              "    }\n",
              "</style>\n",
              "<table border=\"1\" class=\"dataframe\">\n",
              "  <thead>\n",
              "    <tr style=\"text-align: right;\">\n",
              "      <th></th>\n",
              "      <th>activity_comment</th>\n",
              "      <th>activity_id</th>\n",
              "      <th>activity_properties</th>\n",
              "      <th>assay_chembl_id</th>\n",
              "      <th>assay_description</th>\n",
              "      <th>assay_type</th>\n",
              "      <th>bao_endpoint</th>\n",
              "      <th>bao_format</th>\n",
              "      <th>bao_label</th>\n",
              "      <th>canonical_smiles</th>\n",
              "      <th>data_validity_comment</th>\n",
              "      <th>data_validity_description</th>\n",
              "      <th>document_chembl_id</th>\n",
              "      <th>document_journal</th>\n",
              "      <th>document_year</th>\n",
              "      <th>ligand_efficiency</th>\n",
              "      <th>molecule_chembl_id</th>\n",
              "      <th>molecule_pref_name</th>\n",
              "      <th>parent_molecule_chembl_id</th>\n",
              "      <th>pchembl_value</th>\n",
              "      <th>potential_duplicate</th>\n",
              "      <th>qudt_units</th>\n",
              "      <th>record_id</th>\n",
              "      <th>relation</th>\n",
              "      <th>src_id</th>\n",
              "      <th>standard_flag</th>\n",
              "      <th>standard_relation</th>\n",
              "      <th>standard_text_value</th>\n",
              "      <th>standard_type</th>\n",
              "      <th>standard_units</th>\n",
              "      <th>standard_upper_value</th>\n",
              "      <th>standard_value</th>\n",
              "      <th>target_chembl_id</th>\n",
              "      <th>target_organism</th>\n",
              "      <th>target_pref_name</th>\n",
              "      <th>target_tax_id</th>\n",
              "      <th>text_value</th>\n",
              "      <th>toid</th>\n",
              "      <th>type</th>\n",
              "      <th>units</th>\n",
              "      <th>uo_units</th>\n",
              "      <th>upper_value</th>\n",
              "      <th>value</th>\n",
              "    </tr>\n",
              "  </thead>\n",
              "  <tbody>\n",
              "    <tr>\n",
              "      <th>0</th>\n",
              "      <td>None</td>\n",
              "      <td>210224</td>\n",
              "      <td>[]</td>\n",
              "      <td>CHEMBL680253</td>\n",
              "      <td>Compound was evaluated for the inhibition of g...</td>\n",
              "      <td>B</td>\n",
              "      <td>BAO_0000190</td>\n",
              "      <td>BAO_0000357</td>\n",
              "      <td>single protein format</td>\n",
              "      <td>NCCCC(NC(=O)c1ccc(NCC2CNc3nc(N)nc(O)c3C2)cc1)C...</td>\n",
              "      <td>None</td>\n",
              "      <td>None</td>\n",
              "      <td>CHEMBL1126177</td>\n",
              "      <td>J. Med. Chem.</td>\n",
              "      <td>1992</td>\n",
              "      <td>{'bei': '12.38', 'le': '0.23', 'lle': '4.94', ...</td>\n",
              "      <td>CHEMBL289923</td>\n",
              "      <td>None</td>\n",
              "      <td>CHEMBL289923</td>\n",
              "      <td>5.32</td>\n",
              "      <td>False</td>\n",
              "      <td>http://www.openphacts.org/units/Nanomolar</td>\n",
              "      <td>105786</td>\n",
              "      <td>=</td>\n",
              "      <td>1</td>\n",
              "      <td>True</td>\n",
              "      <td>=</td>\n",
              "      <td>None</td>\n",
              "      <td>IC50</td>\n",
              "      <td>nM</td>\n",
              "      <td>None</td>\n",
              "      <td>4800.0</td>\n",
              "      <td>CHEMBL3972</td>\n",
              "      <td>Homo sapiens</td>\n",
              "      <td>GAR transformylase</td>\n",
              "      <td>9606</td>\n",
              "      <td>None</td>\n",
              "      <td>None</td>\n",
              "      <td>I50</td>\n",
              "      <td>uM</td>\n",
              "      <td>UO_0000065</td>\n",
              "      <td>None</td>\n",
              "      <td>4.8</td>\n",
              "    </tr>\n",
              "    <tr>\n",
              "      <th>1</th>\n",
              "      <td>None</td>\n",
              "      <td>226057</td>\n",
              "      <td>[]</td>\n",
              "      <td>CHEMBL678861</td>\n",
              "      <td>Inhibition activity against Glycinamide ribonu...</td>\n",
              "      <td>B</td>\n",
              "      <td>BAO_0000190</td>\n",
              "      <td>BAO_0000219</td>\n",
              "      <td>cell-based format</td>\n",
              "      <td>Nc1nc(N)c(CCCN(C=O)c2ccc(C(=O)NC(CCC(=O)O)C(=O...</td>\n",
              "      <td>None</td>\n",
              "      <td>None</td>\n",
              "      <td>CHEMBL1125043</td>\n",
              "      <td>J. Med. Chem.</td>\n",
              "      <td>1990</td>\n",
              "      <td>{'bei': '10.30', 'le': '0.20', 'lle': '4.75', ...</td>\n",
              "      <td>CHEMBL152172</td>\n",
              "      <td>None</td>\n",
              "      <td>CHEMBL152172</td>\n",
              "      <td>4.75</td>\n",
              "      <td>False</td>\n",
              "      <td>http://www.openphacts.org/units/Nanomolar</td>\n",
              "      <td>299724</td>\n",
              "      <td>=</td>\n",
              "      <td>1</td>\n",
              "      <td>True</td>\n",
              "      <td>=</td>\n",
              "      <td>None</td>\n",
              "      <td>IC50</td>\n",
              "      <td>nM</td>\n",
              "      <td>None</td>\n",
              "      <td>18000.0</td>\n",
              "      <td>CHEMBL3972</td>\n",
              "      <td>Homo sapiens</td>\n",
              "      <td>GAR transformylase</td>\n",
              "      <td>9606</td>\n",
              "      <td>None</td>\n",
              "      <td>None</td>\n",
              "      <td>IC50</td>\n",
              "      <td>uM</td>\n",
              "      <td>UO_0000065</td>\n",
              "      <td>None</td>\n",
              "      <td>18.0</td>\n",
              "    </tr>\n",
              "    <tr>\n",
              "      <th>2</th>\n",
              "      <td>None</td>\n",
              "      <td>226058</td>\n",
              "      <td>[]</td>\n",
              "      <td>CHEMBL682771</td>\n",
              "      <td>Inhibition activity against Glycinamide ribonu...</td>\n",
              "      <td>B</td>\n",
              "      <td>BAO_0000190</td>\n",
              "      <td>BAO_0000019</td>\n",
              "      <td>assay format</td>\n",
              "      <td>Nc1nc(N)c(CCCN(C=O)c2ccc(C(=O)NC(CCC(=O)O)C(=O...</td>\n",
              "      <td>None</td>\n",
              "      <td>None</td>\n",
              "      <td>CHEMBL1125043</td>\n",
              "      <td>J. Med. Chem.</td>\n",
              "      <td>1990</td>\n",
              "      <td>{'bei': '11.12', 'le': '0.21', 'lle': '5.13', ...</td>\n",
              "      <td>CHEMBL152172</td>\n",
              "      <td>None</td>\n",
              "      <td>CHEMBL152172</td>\n",
              "      <td>5.12</td>\n",
              "      <td>False</td>\n",
              "      <td>http://www.openphacts.org/units/Nanomolar</td>\n",
              "      <td>299724</td>\n",
              "      <td>=</td>\n",
              "      <td>1</td>\n",
              "      <td>True</td>\n",
              "      <td>=</td>\n",
              "      <td>None</td>\n",
              "      <td>IC50</td>\n",
              "      <td>nM</td>\n",
              "      <td>None</td>\n",
              "      <td>7600.0</td>\n",
              "      <td>CHEMBL3972</td>\n",
              "      <td>Homo sapiens</td>\n",
              "      <td>GAR transformylase</td>\n",
              "      <td>9606</td>\n",
              "      <td>None</td>\n",
              "      <td>None</td>\n",
              "      <td>IC50</td>\n",
              "      <td>uM</td>\n",
              "      <td>UO_0000065</td>\n",
              "      <td>None</td>\n",
              "      <td>7.6</td>\n",
              "    </tr>\n",
              "    <tr>\n",
              "      <th>3</th>\n",
              "      <td>None</td>\n",
              "      <td>235011</td>\n",
              "      <td>[]</td>\n",
              "      <td>CHEMBL680252</td>\n",
              "      <td>Inhibition activity against Glycinamide ribonu...</td>\n",
              "      <td>B</td>\n",
              "      <td>BAO_0000190</td>\n",
              "      <td>BAO_0000219</td>\n",
              "      <td>cell-based format</td>\n",
              "      <td>CN(CCCc1c(N)nc(N)nc1O)c1ccc(C(=O)NC(CCC(=O)O)C...</td>\n",
              "      <td>None</td>\n",
              "      <td>None</td>\n",
              "      <td>CHEMBL1125043</td>\n",
              "      <td>J. Med. Chem.</td>\n",
              "      <td>1990</td>\n",
              "      <td>{'bei': '12.02', 'le': '0.23', 'lle': '4.91', ...</td>\n",
              "      <td>CHEMBL153550</td>\n",
              "      <td>None</td>\n",
              "      <td>CHEMBL153550</td>\n",
              "      <td>5.37</td>\n",
              "      <td>False</td>\n",
              "      <td>http://www.openphacts.org/units/Nanomolar</td>\n",
              "      <td>299725</td>\n",
              "      <td>=</td>\n",
              "      <td>1</td>\n",
              "      <td>True</td>\n",
              "      <td>=</td>\n",
              "      <td>None</td>\n",
              "      <td>IC50</td>\n",
              "      <td>nM</td>\n",
              "      <td>None</td>\n",
              "      <td>4300.0</td>\n",
              "      <td>CHEMBL3972</td>\n",
              "      <td>Homo sapiens</td>\n",
              "      <td>GAR transformylase</td>\n",
              "      <td>9606</td>\n",
              "      <td>None</td>\n",
              "      <td>None</td>\n",
              "      <td>IC50</td>\n",
              "      <td>uM</td>\n",
              "      <td>UO_0000065</td>\n",
              "      <td>None</td>\n",
              "      <td>4.3</td>\n",
              "    </tr>\n",
              "    <tr>\n",
              "      <th>4</th>\n",
              "      <td>Not Determined</td>\n",
              "      <td>245820</td>\n",
              "      <td>[]</td>\n",
              "      <td>CHEMBL682628</td>\n",
              "      <td>Diglutamyl homologue inhibition activity again...</td>\n",
              "      <td>B</td>\n",
              "      <td>BAO_0000190</td>\n",
              "      <td>BAO_0000019</td>\n",
              "      <td>assay format</td>\n",
              "      <td>Nc1nc(N)c(CCCNc2ccc(C(=O)N[C@@H](CCC(=O)O)C(=O...</td>\n",
              "      <td>None</td>\n",
              "      <td>None</td>\n",
              "      <td>CHEMBL1125043</td>\n",
              "      <td>J. Med. Chem.</td>\n",
              "      <td>1990</td>\n",
              "      <td>None</td>\n",
              "      <td>CHEMBL13659</td>\n",
              "      <td>None</td>\n",
              "      <td>CHEMBL13659</td>\n",
              "      <td>None</td>\n",
              "      <td>False</td>\n",
              "      <td>None</td>\n",
              "      <td>299721</td>\n",
              "      <td>None</td>\n",
              "      <td>1</td>\n",
              "      <td>False</td>\n",
              "      <td>None</td>\n",
              "      <td>None</td>\n",
              "      <td>IC50</td>\n",
              "      <td>None</td>\n",
              "      <td>None</td>\n",
              "      <td>None</td>\n",
              "      <td>CHEMBL3972</td>\n",
              "      <td>Homo sapiens</td>\n",
              "      <td>GAR transformylase</td>\n",
              "      <td>9606</td>\n",
              "      <td>None</td>\n",
              "      <td>None</td>\n",
              "      <td>IC50</td>\n",
              "      <td>uM</td>\n",
              "      <td>None</td>\n",
              "      <td>None</td>\n",
              "      <td>None</td>\n",
              "    </tr>\n",
              "  </tbody>\n",
              "</table>\n",
              "</div>"
            ],
            "text/plain": [
              "  activity_comment  activity_id  ... upper_value value\n",
              "0             None       210224  ...        None   4.8\n",
              "1             None       226057  ...        None  18.0\n",
              "2             None       226058  ...        None   7.6\n",
              "3             None       235011  ...        None   4.3\n",
              "4   Not Determined       245820  ...        None  None\n",
              "\n",
              "[5 rows x 43 columns]"
            ]
          },
          "metadata": {
            "tags": []
          },
          "execution_count": 5
        }
      ]
    },
    {
      "cell_type": "code",
      "metadata": {
        "colab": {
          "base_uri": "https://localhost:8080/"
        },
        "id": "vea_HEs81WXP",
        "outputId": "2c610030-d20d-4b9a-fde1-862416a54829"
      },
      "source": [
        "df['standard_type'].value_counts()"
      ],
      "execution_count": null,
      "outputs": [
        {
          "output_type": "execute_result",
          "data": {
            "text/plain": [
              "IC50    90\n",
              "Name: standard_type, dtype: int64"
            ]
          },
          "metadata": {
            "tags": []
          },
          "execution_count": 6
        }
      ]
    },
    {
      "cell_type": "markdown",
      "metadata": {
        "id": "DPlF8kf4109l"
      },
      "source": [
        "Save bioactivity data (df) to a CSV file."
      ]
    },
    {
      "cell_type": "code",
      "metadata": {
        "id": "X00_Mgfj2BDh"
      },
      "source": [
        "df.to_csv('GAR_transformylase_01_bioactivity_data_raw.csv', index=False)"
      ],
      "execution_count": null,
      "outputs": []
    },
    {
      "cell_type": "markdown",
      "metadata": {
        "id": "1JmyAw40BJyc"
      },
      "source": [
        "###Handle missing data and duplicates"
      ]
    },
    {
      "cell_type": "markdown",
      "metadata": {
        "id": "6oZQ7DjiCcft"
      },
      "source": [
        "Check columns `canonical_smiles` and `standard_value` for missing values."
      ]
    },
    {
      "cell_type": "code",
      "metadata": {
        "colab": {
          "base_uri": "https://localhost:8080/"
        },
        "id": "FEcPVwONBNLm",
        "outputId": "5de0145e-78af-4e9f-fe48-1fcf8e786971"
      },
      "source": [
        "df.isnull().sum()"
      ],
      "execution_count": null,
      "outputs": [
        {
          "output_type": "execute_result",
          "data": {
            "text/plain": [
              "activity_comment             87\n",
              "activity_id                   0\n",
              "activity_properties           0\n",
              "assay_chembl_id               0\n",
              "assay_description             0\n",
              "assay_type                    0\n",
              "bao_endpoint                  0\n",
              "bao_format                    0\n",
              "bao_label                     0\n",
              "canonical_smiles              0\n",
              "data_validity_comment        80\n",
              "data_validity_description    80\n",
              "document_chembl_id            0\n",
              "document_journal              0\n",
              "document_year                 0\n",
              "ligand_efficiency            31\n",
              "molecule_chembl_id            0\n",
              "molecule_pref_name           77\n",
              "parent_molecule_chembl_id     0\n",
              "pchembl_value                24\n",
              "potential_duplicate           0\n",
              "qudt_units                    3\n",
              "record_id                     0\n",
              "relation                      3\n",
              "src_id                        0\n",
              "standard_flag                 0\n",
              "standard_relation             3\n",
              "standard_text_value          90\n",
              "standard_type                 0\n",
              "standard_units                3\n",
              "standard_upper_value         90\n",
              "standard_value                3\n",
              "target_chembl_id              0\n",
              "target_organism               0\n",
              "target_pref_name              0\n",
              "target_tax_id                 0\n",
              "text_value                   90\n",
              "toid                         90\n",
              "type                          0\n",
              "units                         0\n",
              "uo_units                      3\n",
              "upper_value                  90\n",
              "value                         3\n",
              "dtype: int64"
            ]
          },
          "metadata": {
            "tags": []
          },
          "execution_count": 8
        }
      ]
    },
    {
      "cell_type": "markdown",
      "metadata": {
        "id": "dJlS_6Q3xC6v"
      },
      "source": [
        "`canonical_smiles` has no missing values but `standard_value` has 3.\r\n",
        "\r\n",
        "Impute missing values in `standard_value`."
      ]
    },
    {
      "cell_type": "code",
      "metadata": {
        "id": "a6QIXGXF9j6k"
      },
      "source": [
        "# change standard_value dtype from object to float64\r\n",
        "df['standard_value'] = df['standard_value'].apply(pd.to_numeric)"
      ],
      "execution_count": null,
      "outputs": []
    },
    {
      "cell_type": "code",
      "metadata": {
        "colab": {
          "base_uri": "https://localhost:8080/",
          "height": 332
        },
        "id": "n6BRg3689V7h",
        "outputId": "185a9a89-2584-4604-da24-5a9742e45a6f"
      },
      "source": [
        "plt.hist(df['standard_value'])"
      ],
      "execution_count": null,
      "outputs": [
        {
          "output_type": "execute_result",
          "data": {
            "text/plain": [
              "(array([62., 14.,  5.,  1.,  0.,  1.,  0.,  0.,  1.,  3.]),\n",
              " array([5.e-05, 1.e+04, 2.e+04, 3.e+04, 4.e+04, 5.e+04, 6.e+04, 7.e+04,\n",
              "        8.e+04, 9.e+04, 1.e+05]),\n",
              " <a list of 10 Patch objects>)"
            ]
          },
          "metadata": {
            "tags": []
          },
          "execution_count": 10
        },
        {
          "output_type": "display_data",
          "data": {
            "image/png": "[encoded data removed]",
            "text/plain": [
              "<Figure size 432x288 with 1 Axes>"
            ]
          },
          "metadata": {
            "tags": [],
            "needs_background": "light"
          }
        }
      ]
    },
    {
      "cell_type": "markdown",
      "metadata": {
        "id": "FJKBmKIZ9tlA"
      },
      "source": [
        "Distribution of `standard_value`is right skewed. So it is better to use median to impute the missing values."
      ]
    },
    {
      "cell_type": "code",
      "metadata": {
        "colab": {
          "base_uri": "https://localhost:8080/"
        },
        "id": "DNpv-Il_9_dO",
        "outputId": "6561e3e0-b1ff-4aa5-d69c-f277f8c51e5e"
      },
      "source": [
        "df['standard_value'].fillna(df['standard_value'].median(), inplace=True)\r\n",
        "\r\n",
        "df['standard_value'].isnull().sum()"
      ],
      "execution_count": null,
      "outputs": [
        {
          "output_type": "execute_result",
          "data": {
            "text/plain": [
              "0"
            ]
          },
          "metadata": {
            "tags": []
          },
          "execution_count": 11
        }
      ]
    },
    {
      "cell_type": "markdown",
      "metadata": {
        "id": "2_-Ezc5fC6sK"
      },
      "source": [
        "Check `canonical_smiles` column for duplicates."
      ]
    },
    {
      "cell_type": "code",
      "metadata": {
        "colab": {
          "base_uri": "https://localhost:8080/"
        },
        "id": "blLv8efjBoBG",
        "outputId": "73c13399-9110-4ced-c7db-b06fdbb709cb"
      },
      "source": [
        "len(df.canonical_smiles.unique())"
      ],
      "execution_count": null,
      "outputs": [
        {
          "output_type": "execute_result",
          "data": {
            "text/plain": [
              "69"
            ]
          },
          "metadata": {
            "tags": []
          },
          "execution_count": 12
        }
      ]
    },
    {
      "cell_type": "markdown",
      "metadata": {
        "id": "kioy5JdbDOjp"
      },
      "source": [
        "Drop duplicates from `canonical_smiles`."
      ]
    },
    {
      "cell_type": "code",
      "metadata": {
        "id": "GMzEanIwBxAl"
      },
      "source": [
        "df2 = df.drop_duplicates(['canonical_smiles'])"
      ],
      "execution_count": null,
      "outputs": []
    },
    {
      "cell_type": "code",
      "metadata": {
        "colab": {
          "base_uri": "https://localhost:8080/"
        },
        "id": "d33uO5FKCBsR",
        "outputId": "3f18d52f-24b1-4d04-c333-9ef3eaf40c65"
      },
      "source": [
        "df2.shape"
      ],
      "execution_count": null,
      "outputs": [
        {
          "output_type": "execute_result",
          "data": {
            "text/plain": [
              "(69, 43)"
            ]
          },
          "metadata": {
            "tags": []
          },
          "execution_count": 14
        }
      ]
    },
    {
      "cell_type": "markdown",
      "metadata": {
        "id": "zRbpS95HDhlG"
      },
      "source": [
        "###Data pre-processing"
      ]
    },
    {
      "cell_type": "markdown",
      "metadata": {
        "id": "2lFhVaLIDtX3"
      },
      "source": [
        "From `df2` keep the bioactivity data."
      ]
    },
    {
      "cell_type": "code",
      "metadata": {
        "colab": {
          "base_uri": "https://localhost:8080/",
          "height": 343
        },
        "id": "gfh4qzWoDlDx",
        "outputId": "c76a124e-b404-4b05-bf9b-e4029f498f78"
      },
      "source": [
        "selection = ['molecule_chembl_id','canonical_smiles','standard_value']\r\n",
        "df3 = df2[selection]\r\n",
        "df3.head(10)"
      ],
      "execution_count": null,
      "outputs": [
        {
          "output_type": "execute_result",
          "data": {
            "text/html": [
              "<div>\n",
              "<style scoped>\n",
              "    .dataframe tbody tr th:only-of-type {\n",
              "        vertical-align: middle;\n",
              "    }\n",
              "\n",
              "    .dataframe tbody tr th {\n",
              "        vertical-align: top;\n",
              "    }\n",
              "\n",
              "    .dataframe thead th {\n",
              "        text-align: right;\n",
              "    }\n",
              "</style>\n",
              "<table border=\"1\" class=\"dataframe\">\n",
              "  <thead>\n",
              "    <tr style=\"text-align: right;\">\n",
              "      <th></th>\n",
              "      <th>molecule_chembl_id</th>\n",
              "      <th>canonical_smiles</th>\n",
              "      <th>standard_value</th>\n",
              "    </tr>\n",
              "  </thead>\n",
              "  <tbody>\n",
              "    <tr>\n",
              "      <th>0</th>\n",
              "      <td>CHEMBL289923</td>\n",
              "      <td>NCCCC(NC(=O)c1ccc(NCC2CNc3nc(N)nc(O)c3C2)cc1)C...</td>\n",
              "      <td>4800.00000</td>\n",
              "    </tr>\n",
              "    <tr>\n",
              "      <th>1</th>\n",
              "      <td>CHEMBL152172</td>\n",
              "      <td>Nc1nc(N)c(CCCN(C=O)c2ccc(C(=O)NC(CCC(=O)O)C(=O...</td>\n",
              "      <td>18000.00000</td>\n",
              "    </tr>\n",
              "    <tr>\n",
              "      <th>3</th>\n",
              "      <td>CHEMBL153550</td>\n",
              "      <td>CN(CCCc1c(N)nc(N)nc1O)c1ccc(C(=O)NC(CCC(=O)O)C...</td>\n",
              "      <td>4300.00000</td>\n",
              "    </tr>\n",
              "    <tr>\n",
              "      <th>4</th>\n",
              "      <td>CHEMBL13659</td>\n",
              "      <td>Nc1nc(N)c(CCCNc2ccc(C(=O)N[C@@H](CCC(=O)O)C(=O...</td>\n",
              "      <td>630.00000</td>\n",
              "    </tr>\n",
              "    <tr>\n",
              "      <th>5</th>\n",
              "      <td>CHEMBL158034</td>\n",
              "      <td>Nc1nc(O)c2c(n1)NCC1CCN(c3ccc(C(=O)NC(CCC(=O)O)...</td>\n",
              "      <td>20000.00000</td>\n",
              "    </tr>\n",
              "    <tr>\n",
              "      <th>7</th>\n",
              "      <td>CHEMBL23699</td>\n",
              "      <td>CC(Cc1ccc(C(=O)NC(CCC(=O)O)C(=O)O)cc1)CC1CNc2n...</td>\n",
              "      <td>0.00110</td>\n",
              "    </tr>\n",
              "    <tr>\n",
              "      <th>8</th>\n",
              "      <td>CHEMBL23278</td>\n",
              "      <td>CC(CC1=Nc2c(O)nc(N)nc2NC1)Cc1ccc(C(=O)NC(CCC(=...</td>\n",
              "      <td>0.00055</td>\n",
              "    </tr>\n",
              "    <tr>\n",
              "      <th>9</th>\n",
              "      <td>CHEMBL23388</td>\n",
              "      <td>Nc1nc(O)c2c(n1)NC[C@H](CCNc1ccc(C(=O)NC(CCC(=O...</td>\n",
              "      <td>0.00100</td>\n",
              "    </tr>\n",
              "    <tr>\n",
              "      <th>10</th>\n",
              "      <td>CHEMBL284013</td>\n",
              "      <td>Nc1nc(O)c2nc(CCCc3ccc(C(=O)NC(CCC(=O)O)C(=O)O)...</td>\n",
              "      <td>25000.00000</td>\n",
              "    </tr>\n",
              "    <tr>\n",
              "      <th>11</th>\n",
              "      <td>CHEMBL279302</td>\n",
              "      <td>Nc1nc(O)c2c(n1)NCC(CCCc1ccc(C(=O)NC(CCC(=O)O)C...</td>\n",
              "      <td>0.00005</td>\n",
              "    </tr>\n",
              "  </tbody>\n",
              "</table>\n",
              "</div>"
            ],
            "text/plain": [
              "   molecule_chembl_id  ... standard_value\n",
              "0        CHEMBL289923  ...     4800.00000\n",
              "1        CHEMBL152172  ...    18000.00000\n",
              "3        CHEMBL153550  ...     4300.00000\n",
              "4         CHEMBL13659  ...      630.00000\n",
              "5        CHEMBL158034  ...    20000.00000\n",
              "7         CHEMBL23699  ...        0.00110\n",
              "8         CHEMBL23278  ...        0.00055\n",
              "9         CHEMBL23388  ...        0.00100\n",
              "10       CHEMBL284013  ...    25000.00000\n",
              "11       CHEMBL279302  ...        0.00005\n",
              "\n",
              "[10 rows x 3 columns]"
            ]
          },
          "metadata": {
            "tags": []
          },
          "execution_count": 15
        }
      ]
    },
    {
      "cell_type": "markdown",
      "metadata": {
        "id": "VsDa3mCmbuIQ"
      },
      "source": [
        "Change dtype of column `standard_value` from object to float64."
      ]
    },
    {
      "cell_type": "markdown",
      "metadata": {
        "id": "WxIgDklxJ9kG"
      },
      "source": [
        "Save `df3` to CSV file."
      ]
    },
    {
      "cell_type": "code",
      "metadata": {
        "id": "Bt1MwXP9J9Lc"
      },
      "source": [
        "df3.to_csv('GAR_transformylase_02_bioactivity_data_preprocessed.csv', index=False)"
      ],
      "execution_count": null,
      "outputs": []
    },
    {
      "cell_type": "markdown",
      "metadata": {
        "id": "iQWUypF8Kl-H"
      },
      "source": [
        "###Label compounds (active, inactive or intermediate)"
      ]
    },
    {
      "cell_type": "markdown",
      "metadata": {
        "id": "x3HpII3iSYKe"
      },
      "source": [
        "Bioactivity data is in the IC50 unit. IC50 represents the concentration of the drug needed for the drug to have half of its curing result. The lowest the IC50 the better herapeutic capacity of the drug. "
      ]
    },
    {
      "cell_type": "code",
      "metadata": {
        "colab": {
          "base_uri": "https://localhost:8080/",
          "height": 212
        },
        "id": "3YjqV3ZMKlqg",
        "outputId": "d58c6d24-36a2-473a-e677-1fbce292b6d6"
      },
      "source": [
        "df4 = pd.read_csv('GAR_transformylase_02_bioactivity_data_preprocessed.csv')\r\n",
        "df4.rename(columns={'standard_value': 'IC50'}, inplace = True)\r\n",
        "print(df4.shape)\r\n",
        "df4.head()"
      ],
      "execution_count": null,
      "outputs": [
        {
          "output_type": "stream",
          "text": [
            "(69, 3)\n"
          ],
          "name": "stdout"
        },
        {
          "output_type": "execute_result",
          "data": {
            "text/html": [
              "<div>\n",
              "<style scoped>\n",
              "    .dataframe tbody tr th:only-of-type {\n",
              "        vertical-align: middle;\n",
              "    }\n",
              "\n",
              "    .dataframe tbody tr th {\n",
              "        vertical-align: top;\n",
              "    }\n",
              "\n",
              "    .dataframe thead th {\n",
              "        text-align: right;\n",
              "    }\n",
              "</style>\n",
              "<table border=\"1\" class=\"dataframe\">\n",
              "  <thead>\n",
              "    <tr style=\"text-align: right;\">\n",
              "      <th></th>\n",
              "      <th>molecule_chembl_id</th>\n",
              "      <th>canonical_smiles</th>\n",
              "      <th>IC50</th>\n",
              "    </tr>\n",
              "  </thead>\n",
              "  <tbody>\n",
              "    <tr>\n",
              "      <th>0</th>\n",
              "      <td>CHEMBL289923</td>\n",
              "      <td>NCCCC(NC(=O)c1ccc(NCC2CNc3nc(N)nc(O)c3C2)cc1)C...</td>\n",
              "      <td>4800.0</td>\n",
              "    </tr>\n",
              "    <tr>\n",
              "      <th>1</th>\n",
              "      <td>CHEMBL152172</td>\n",
              "      <td>Nc1nc(N)c(CCCN(C=O)c2ccc(C(=O)NC(CCC(=O)O)C(=O...</td>\n",
              "      <td>18000.0</td>\n",
              "    </tr>\n",
              "    <tr>\n",
              "      <th>2</th>\n",
              "      <td>CHEMBL153550</td>\n",
              "      <td>CN(CCCc1c(N)nc(N)nc1O)c1ccc(C(=O)NC(CCC(=O)O)C...</td>\n",
              "      <td>4300.0</td>\n",
              "    </tr>\n",
              "    <tr>\n",
              "      <th>3</th>\n",
              "      <td>CHEMBL13659</td>\n",
              "      <td>Nc1nc(N)c(CCCNc2ccc(C(=O)N[C@@H](CCC(=O)O)C(=O...</td>\n",
              "      <td>630.0</td>\n",
              "    </tr>\n",
              "    <tr>\n",
              "      <th>4</th>\n",
              "      <td>CHEMBL158034</td>\n",
              "      <td>Nc1nc(O)c2c(n1)NCC1CCN(c3ccc(C(=O)NC(CCC(=O)O)...</td>\n",
              "      <td>20000.0</td>\n",
              "    </tr>\n",
              "  </tbody>\n",
              "</table>\n",
              "</div>"
            ],
            "text/plain": [
              "  molecule_chembl_id  ...     IC50\n",
              "0       CHEMBL289923  ...   4800.0\n",
              "1       CHEMBL152172  ...  18000.0\n",
              "2       CHEMBL153550  ...   4300.0\n",
              "3        CHEMBL13659  ...    630.0\n",
              "4       CHEMBL158034  ...  20000.0\n",
              "\n",
              "[5 rows x 3 columns]"
            ]
          },
          "metadata": {
            "tags": []
          },
          "execution_count": 17
        }
      ]
    },
    {
      "cell_type": "markdown",
      "metadata": {
        "id": "KHE3nGN2uFmv"
      },
      "source": [
        "Compounds having Ki less than **1000 nM** will be considered to be active while those having Ki greater than **10,000 nM** will be considered to be inactive. As for those with Ki values in between **1,000** and **10,000 nM** will be referred as intermediate."
      ]
    },
    {
      "cell_type": "code",
      "metadata": {
        "colab": {
          "base_uri": "https://localhost:8080/",
          "height": 212
        },
        "id": "hjbB3S6JpdT4",
        "outputId": "95263100-1bc3-4900-b3aa-da75a47cf1a4"
      },
      "source": [
        "bioactivity_threshold = []\r\n",
        "for i in df4.IC50:\r\n",
        "  if i >= 10000:\r\n",
        "    bioactivity_threshold.append(\"inactive\")\r\n",
        "  elif i <= 1000:\r\n",
        "    bioactivity_threshold.append(\"active\")\r\n",
        "  else:\r\n",
        "    bioactivity_threshold.append(\"intermediate\")\r\n",
        "\r\n",
        "bioactivity_class = pd.Series(bioactivity_threshold, name='class')\r\n",
        "df5 = pd.concat([df4, bioactivity_class], axis=1)\r\n",
        "print(df5.shape)\r\n",
        "df5.head()"
      ],
      "execution_count": null,
      "outputs": [
        {
          "output_type": "stream",
          "text": [
            "(69, 4)\n"
          ],
          "name": "stdout"
        },
        {
          "output_type": "execute_result",
          "data": {
            "text/html": [
              "<div>\n",
              "<style scoped>\n",
              "    .dataframe tbody tr th:only-of-type {\n",
              "        vertical-align: middle;\n",
              "    }\n",
              "\n",
              "    .dataframe tbody tr th {\n",
              "        vertical-align: top;\n",
              "    }\n",
              "\n",
              "    .dataframe thead th {\n",
              "        text-align: right;\n",
              "    }\n",
              "</style>\n",
              "<table border=\"1\" class=\"dataframe\">\n",
              "  <thead>\n",
              "    <tr style=\"text-align: right;\">\n",
              "      <th></th>\n",
              "      <th>molecule_chembl_id</th>\n",
              "      <th>canonical_smiles</th>\n",
              "      <th>IC50</th>\n",
              "      <th>class</th>\n",
              "    </tr>\n",
              "  </thead>\n",
              "  <tbody>\n",
              "    <tr>\n",
              "      <th>0</th>\n",
              "      <td>CHEMBL289923</td>\n",
              "      <td>NCCCC(NC(=O)c1ccc(NCC2CNc3nc(N)nc(O)c3C2)cc1)C...</td>\n",
              "      <td>4800.0</td>\n",
              "      <td>intermediate</td>\n",
              "    </tr>\n",
              "    <tr>\n",
              "      <th>1</th>\n",
              "      <td>CHEMBL152172</td>\n",
              "      <td>Nc1nc(N)c(CCCN(C=O)c2ccc(C(=O)NC(CCC(=O)O)C(=O...</td>\n",
              "      <td>18000.0</td>\n",
              "      <td>inactive</td>\n",
              "    </tr>\n",
              "    <tr>\n",
              "      <th>2</th>\n",
              "      <td>CHEMBL153550</td>\n",
              "      <td>CN(CCCc1c(N)nc(N)nc1O)c1ccc(C(=O)NC(CCC(=O)O)C...</td>\n",
              "      <td>4300.0</td>\n",
              "      <td>intermediate</td>\n",
              "    </tr>\n",
              "    <tr>\n",
              "      <th>3</th>\n",
              "      <td>CHEMBL13659</td>\n",
              "      <td>Nc1nc(N)c(CCCNc2ccc(C(=O)N[C@@H](CCC(=O)O)C(=O...</td>\n",
              "      <td>630.0</td>\n",
              "      <td>active</td>\n",
              "    </tr>\n",
              "    <tr>\n",
              "      <th>4</th>\n",
              "      <td>CHEMBL158034</td>\n",
              "      <td>Nc1nc(O)c2c(n1)NCC1CCN(c3ccc(C(=O)NC(CCC(=O)O)...</td>\n",
              "      <td>20000.0</td>\n",
              "      <td>inactive</td>\n",
              "    </tr>\n",
              "  </tbody>\n",
              "</table>\n",
              "</div>"
            ],
            "text/plain": [
              "  molecule_chembl_id  ...         class\n",
              "0       CHEMBL289923  ...  intermediate\n",
              "1       CHEMBL152172  ...      inactive\n",
              "2       CHEMBL153550  ...  intermediate\n",
              "3        CHEMBL13659  ...        active\n",
              "4       CHEMBL158034  ...      inactive\n",
              "\n",
              "[5 rows x 4 columns]"
            ]
          },
          "metadata": {
            "tags": []
          },
          "execution_count": 18
        }
      ]
    },
    {
      "cell_type": "code",
      "metadata": {
        "colab": {
          "base_uri": "https://localhost:8080/"
        },
        "id": "8KeNjDEBuqi9",
        "outputId": "c98edcb4-8b9f-4c2c-ebbe-1ee834ff9ba3"
      },
      "source": [
        "df5['class'].value_counts()"
      ],
      "execution_count": null,
      "outputs": [
        {
          "output_type": "execute_result",
          "data": {
            "text/plain": [
              "active          37\n",
              "inactive        20\n",
              "intermediate    12\n",
              "Name: class, dtype: int64"
            ]
          },
          "metadata": {
            "tags": []
          },
          "execution_count": 19
        }
      ]
    },
    {
      "cell_type": "markdown",
      "metadata": {
        "id": "05ctDt8QuHfo"
      },
      "source": [
        "Save `df5`, the dataframe containing the bioactivity classes, to CSV file."
      ]
    },
    {
      "cell_type": "code",
      "metadata": {
        "id": "r7dO1M5st8oJ"
      },
      "source": [
        "df5.to_csv('GAR_transformylase_03_bioactivity_data_curated.csv', index=False)"
      ],
      "execution_count": null,
      "outputs": []
    }
  ]
}