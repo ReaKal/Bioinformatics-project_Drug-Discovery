{
  "nbformat": 4,
  "nbformat_minor": 0,
  "metadata": {
    "colab": {
      "name": "Ebola - part5.ipynb",
      "provenance": [],
      "collapsed_sections": [],
      "toc_visible": true
    },
    "kernelspec": {
      "name": "python3",
      "display_name": "Python 3"
    }
  },
  "cells": [
    {
      "cell_type": "markdown",
      "metadata": {
        "id": "3-I7GlUbyV9J"
      },
      "source": [
        "# Choose among many Regression models\r\n",
        " A follow along project on drug discovery for *Zaire ebolavirus*"
      ]
    },
    {
      "cell_type": "markdown",
      "metadata": {
        "id": "eoAQIPqkyVyc"
      },
      "source": [
        "by Rea Kalampaliki\r\n",
        "\r\n",
        "**Digital mentor**: Chanin Nantasenamat ([Data Professor](https://www.youtube.com/watch?v=qWVTxfLq2ak&list=PLtqF5YXg7GLlQJUv9XJ3RWdd5VYGwBHrP&index=2))"
      ]
    },
    {
      "cell_type": "code",
      "metadata": {
        "colab": {
          "base_uri": "https://localhost:8080/"
        },
        "id": "TGvYMIulyBK1",
        "outputId": "d538c245-2c19-4efc-fa2c-63c5ac129c6a"
      },
      "source": [
        "! pip install lazypredict"
      ],
      "execution_count": null,
      "outputs": [
        {
          "output_type": "stream",
          "text": [
            "Collecting lazypredict\n",
            "  Downloading https://files.pythonhosted.org/packages/5f/db/1566dca1050ea74e9474dca0f1e7bbffcb0c3e694cf92e7e6e7ef9fca3af/lazypredict-0.2.7-py2.py3-none-any.whl\n",
            "Requirement already satisfied: Click>=7.0 in /usr/local/lib/python3.6/dist-packages (from lazypredict) (7.1.2)\n",
            "Installing collected packages: lazypredict\n",
            "Successfully installed lazypredict-0.2.7\n"
          ],
          "name": "stdout"
        }
      ]
    },
    {
      "cell_type": "code",
      "metadata": {
        "id": "cTz3iISOyvvo"
      },
      "source": [
        "import pandas as pd\r\n",
        "import seaborn as sns\r\n",
        "from sklearn.model_selection import train_test_split\r\n",
        "from lazypredict.Supervised import LazyRegressor"
      ],
      "execution_count": null,
      "outputs": []
    },
    {
      "cell_type": "markdown",
      "metadata": {
        "id": "gr9BZMi5zGRN"
      },
      "source": [
        "##Load GAR transformylase dataset"
      ]
    },
    {
      "cell_type": "code",
      "metadata": {
        "colab": {
          "base_uri": "https://localhost:8080/",
          "height": 261
        },
        "id": "QJBbkxzCzGAE",
        "outputId": "30184322-c078-45e5-991a-25880d38dfe9"
      },
      "source": [
        "df = pd.read_csv(\"/content/GAR_transformylase_06_bioactivity_data_3class_pIC50_pubchem_fp.csv\")\r\n",
        "\r\n",
        "print(df.shape)\r\n",
        "df.head()"
      ],
      "execution_count": null,
      "outputs": [
        {
          "output_type": "stream",
          "text": [
            "(69, 882)\n"
          ],
          "name": "stdout"
        },
        {
          "output_type": "execute_result",
          "data": {
            "text/html": [
              "<div>\n",
              "<style scoped>\n",
              "    .dataframe tbody tr th:only-of-type {\n",
              "        vertical-align: middle;\n",
              "    }\n",
              "\n",
              "    .dataframe tbody tr th {\n",
              "        vertical-align: top;\n",
              "    }\n",
              "\n",
              "    .dataframe thead th {\n",
              "        text-align: right;\n",
              "    }\n",
              "</style>\n",
              "<table border=\"1\" class=\"dataframe\">\n",
              "  <thead>\n",
              "    <tr style=\"text-align: right;\">\n",
              "      <th></th>\n",
              "      <th>PubchemFP0</th>\n",
              "      <th>PubchemFP1</th>\n",
              "      <th>PubchemFP2</th>\n",
              "      <th>PubchemFP3</th>\n",
              "      <th>PubchemFP4</th>\n",
              "      <th>PubchemFP5</th>\n",
              "      <th>PubchemFP6</th>\n",
              "      <th>PubchemFP7</th>\n",
              "      <th>PubchemFP8</th>\n",
              "      <th>PubchemFP9</th>\n",
              "      <th>PubchemFP10</th>\n",
              "      <th>PubchemFP11</th>\n",
              "      <th>PubchemFP12</th>\n",
              "      <th>PubchemFP13</th>\n",
              "      <th>PubchemFP14</th>\n",
              "      <th>PubchemFP15</th>\n",
              "      <th>PubchemFP16</th>\n",
              "      <th>PubchemFP17</th>\n",
              "      <th>PubchemFP18</th>\n",
              "      <th>PubchemFP19</th>\n",
              "      <th>PubchemFP20</th>\n",
              "      <th>PubchemFP21</th>\n",
              "      <th>PubchemFP22</th>\n",
              "      <th>PubchemFP23</th>\n",
              "      <th>PubchemFP24</th>\n",
              "      <th>PubchemFP25</th>\n",
              "      <th>PubchemFP26</th>\n",
              "      <th>PubchemFP27</th>\n",
              "      <th>PubchemFP28</th>\n",
              "      <th>PubchemFP29</th>\n",
              "      <th>PubchemFP30</th>\n",
              "      <th>PubchemFP31</th>\n",
              "      <th>PubchemFP32</th>\n",
              "      <th>PubchemFP33</th>\n",
              "      <th>PubchemFP34</th>\n",
              "      <th>PubchemFP35</th>\n",
              "      <th>PubchemFP36</th>\n",
              "      <th>PubchemFP37</th>\n",
              "      <th>PubchemFP38</th>\n",
              "      <th>PubchemFP39</th>\n",
              "      <th>...</th>\n",
              "      <th>PubchemFP842</th>\n",
              "      <th>PubchemFP843</th>\n",
              "      <th>PubchemFP844</th>\n",
              "      <th>PubchemFP845</th>\n",
              "      <th>PubchemFP846</th>\n",
              "      <th>PubchemFP847</th>\n",
              "      <th>PubchemFP848</th>\n",
              "      <th>PubchemFP849</th>\n",
              "      <th>PubchemFP850</th>\n",
              "      <th>PubchemFP851</th>\n",
              "      <th>PubchemFP852</th>\n",
              "      <th>PubchemFP853</th>\n",
              "      <th>PubchemFP854</th>\n",
              "      <th>PubchemFP855</th>\n",
              "      <th>PubchemFP856</th>\n",
              "      <th>PubchemFP857</th>\n",
              "      <th>PubchemFP858</th>\n",
              "      <th>PubchemFP859</th>\n",
              "      <th>PubchemFP860</th>\n",
              "      <th>PubchemFP861</th>\n",
              "      <th>PubchemFP862</th>\n",
              "      <th>PubchemFP863</th>\n",
              "      <th>PubchemFP864</th>\n",
              "      <th>PubchemFP865</th>\n",
              "      <th>PubchemFP866</th>\n",
              "      <th>PubchemFP867</th>\n",
              "      <th>PubchemFP868</th>\n",
              "      <th>PubchemFP869</th>\n",
              "      <th>PubchemFP870</th>\n",
              "      <th>PubchemFP871</th>\n",
              "      <th>PubchemFP872</th>\n",
              "      <th>PubchemFP873</th>\n",
              "      <th>PubchemFP874</th>\n",
              "      <th>PubchemFP875</th>\n",
              "      <th>PubchemFP876</th>\n",
              "      <th>PubchemFP877</th>\n",
              "      <th>PubchemFP878</th>\n",
              "      <th>PubchemFP879</th>\n",
              "      <th>PubchemFP880</th>\n",
              "      <th>pIC50</th>\n",
              "    </tr>\n",
              "  </thead>\n",
              "  <tbody>\n",
              "    <tr>\n",
              "      <th>0</th>\n",
              "      <td>1</td>\n",
              "      <td>1</td>\n",
              "      <td>1</td>\n",
              "      <td>0</td>\n",
              "      <td>0</td>\n",
              "      <td>0</td>\n",
              "      <td>0</td>\n",
              "      <td>0</td>\n",
              "      <td>0</td>\n",
              "      <td>1</td>\n",
              "      <td>1</td>\n",
              "      <td>1</td>\n",
              "      <td>1</td>\n",
              "      <td>0</td>\n",
              "      <td>1</td>\n",
              "      <td>1</td>\n",
              "      <td>1</td>\n",
              "      <td>0</td>\n",
              "      <td>1</td>\n",
              "      <td>1</td>\n",
              "      <td>1</td>\n",
              "      <td>0</td>\n",
              "      <td>0</td>\n",
              "      <td>0</td>\n",
              "      <td>0</td>\n",
              "      <td>0</td>\n",
              "      <td>0</td>\n",
              "      <td>0</td>\n",
              "      <td>0</td>\n",
              "      <td>0</td>\n",
              "      <td>0</td>\n",
              "      <td>0</td>\n",
              "      <td>0</td>\n",
              "      <td>0</td>\n",
              "      <td>0</td>\n",
              "      <td>0</td>\n",
              "      <td>0</td>\n",
              "      <td>0</td>\n",
              "      <td>0</td>\n",
              "      <td>0</td>\n",
              "      <td>...</td>\n",
              "      <td>0</td>\n",
              "      <td>0</td>\n",
              "      <td>0</td>\n",
              "      <td>0</td>\n",
              "      <td>0</td>\n",
              "      <td>0</td>\n",
              "      <td>0</td>\n",
              "      <td>0</td>\n",
              "      <td>0</td>\n",
              "      <td>0</td>\n",
              "      <td>0</td>\n",
              "      <td>0</td>\n",
              "      <td>0</td>\n",
              "      <td>0</td>\n",
              "      <td>0</td>\n",
              "      <td>0</td>\n",
              "      <td>0</td>\n",
              "      <td>0</td>\n",
              "      <td>0</td>\n",
              "      <td>0</td>\n",
              "      <td>0</td>\n",
              "      <td>0</td>\n",
              "      <td>0</td>\n",
              "      <td>0</td>\n",
              "      <td>0</td>\n",
              "      <td>0</td>\n",
              "      <td>0</td>\n",
              "      <td>0</td>\n",
              "      <td>0</td>\n",
              "      <td>0</td>\n",
              "      <td>0</td>\n",
              "      <td>0</td>\n",
              "      <td>0</td>\n",
              "      <td>0</td>\n",
              "      <td>0</td>\n",
              "      <td>0</td>\n",
              "      <td>0</td>\n",
              "      <td>0</td>\n",
              "      <td>0</td>\n",
              "      <td>5.32</td>\n",
              "    </tr>\n",
              "    <tr>\n",
              "      <th>1</th>\n",
              "      <td>1</td>\n",
              "      <td>1</td>\n",
              "      <td>1</td>\n",
              "      <td>0</td>\n",
              "      <td>0</td>\n",
              "      <td>0</td>\n",
              "      <td>0</td>\n",
              "      <td>0</td>\n",
              "      <td>0</td>\n",
              "      <td>1</td>\n",
              "      <td>1</td>\n",
              "      <td>1</td>\n",
              "      <td>1</td>\n",
              "      <td>0</td>\n",
              "      <td>1</td>\n",
              "      <td>1</td>\n",
              "      <td>1</td>\n",
              "      <td>0</td>\n",
              "      <td>1</td>\n",
              "      <td>1</td>\n",
              "      <td>1</td>\n",
              "      <td>0</td>\n",
              "      <td>0</td>\n",
              "      <td>0</td>\n",
              "      <td>0</td>\n",
              "      <td>0</td>\n",
              "      <td>0</td>\n",
              "      <td>0</td>\n",
              "      <td>0</td>\n",
              "      <td>0</td>\n",
              "      <td>0</td>\n",
              "      <td>0</td>\n",
              "      <td>0</td>\n",
              "      <td>0</td>\n",
              "      <td>0</td>\n",
              "      <td>0</td>\n",
              "      <td>0</td>\n",
              "      <td>0</td>\n",
              "      <td>0</td>\n",
              "      <td>0</td>\n",
              "      <td>...</td>\n",
              "      <td>0</td>\n",
              "      <td>0</td>\n",
              "      <td>0</td>\n",
              "      <td>0</td>\n",
              "      <td>0</td>\n",
              "      <td>0</td>\n",
              "      <td>0</td>\n",
              "      <td>0</td>\n",
              "      <td>0</td>\n",
              "      <td>0</td>\n",
              "      <td>0</td>\n",
              "      <td>0</td>\n",
              "      <td>0</td>\n",
              "      <td>0</td>\n",
              "      <td>0</td>\n",
              "      <td>0</td>\n",
              "      <td>0</td>\n",
              "      <td>0</td>\n",
              "      <td>0</td>\n",
              "      <td>0</td>\n",
              "      <td>0</td>\n",
              "      <td>0</td>\n",
              "      <td>0</td>\n",
              "      <td>0</td>\n",
              "      <td>0</td>\n",
              "      <td>0</td>\n",
              "      <td>0</td>\n",
              "      <td>0</td>\n",
              "      <td>0</td>\n",
              "      <td>0</td>\n",
              "      <td>0</td>\n",
              "      <td>0</td>\n",
              "      <td>0</td>\n",
              "      <td>0</td>\n",
              "      <td>0</td>\n",
              "      <td>0</td>\n",
              "      <td>0</td>\n",
              "      <td>0</td>\n",
              "      <td>0</td>\n",
              "      <td>4.74</td>\n",
              "    </tr>\n",
              "    <tr>\n",
              "      <th>2</th>\n",
              "      <td>1</td>\n",
              "      <td>1</td>\n",
              "      <td>1</td>\n",
              "      <td>0</td>\n",
              "      <td>0</td>\n",
              "      <td>0</td>\n",
              "      <td>0</td>\n",
              "      <td>0</td>\n",
              "      <td>0</td>\n",
              "      <td>1</td>\n",
              "      <td>1</td>\n",
              "      <td>1</td>\n",
              "      <td>1</td>\n",
              "      <td>0</td>\n",
              "      <td>1</td>\n",
              "      <td>1</td>\n",
              "      <td>1</td>\n",
              "      <td>0</td>\n",
              "      <td>1</td>\n",
              "      <td>1</td>\n",
              "      <td>1</td>\n",
              "      <td>0</td>\n",
              "      <td>0</td>\n",
              "      <td>0</td>\n",
              "      <td>0</td>\n",
              "      <td>0</td>\n",
              "      <td>0</td>\n",
              "      <td>0</td>\n",
              "      <td>0</td>\n",
              "      <td>0</td>\n",
              "      <td>0</td>\n",
              "      <td>0</td>\n",
              "      <td>0</td>\n",
              "      <td>0</td>\n",
              "      <td>0</td>\n",
              "      <td>0</td>\n",
              "      <td>0</td>\n",
              "      <td>0</td>\n",
              "      <td>0</td>\n",
              "      <td>0</td>\n",
              "      <td>...</td>\n",
              "      <td>0</td>\n",
              "      <td>0</td>\n",
              "      <td>0</td>\n",
              "      <td>0</td>\n",
              "      <td>0</td>\n",
              "      <td>0</td>\n",
              "      <td>0</td>\n",
              "      <td>0</td>\n",
              "      <td>0</td>\n",
              "      <td>0</td>\n",
              "      <td>0</td>\n",
              "      <td>0</td>\n",
              "      <td>0</td>\n",
              "      <td>0</td>\n",
              "      <td>0</td>\n",
              "      <td>0</td>\n",
              "      <td>0</td>\n",
              "      <td>0</td>\n",
              "      <td>0</td>\n",
              "      <td>0</td>\n",
              "      <td>0</td>\n",
              "      <td>0</td>\n",
              "      <td>0</td>\n",
              "      <td>0</td>\n",
              "      <td>0</td>\n",
              "      <td>0</td>\n",
              "      <td>0</td>\n",
              "      <td>0</td>\n",
              "      <td>0</td>\n",
              "      <td>0</td>\n",
              "      <td>0</td>\n",
              "      <td>0</td>\n",
              "      <td>0</td>\n",
              "      <td>0</td>\n",
              "      <td>0</td>\n",
              "      <td>0</td>\n",
              "      <td>0</td>\n",
              "      <td>0</td>\n",
              "      <td>0</td>\n",
              "      <td>5.37</td>\n",
              "    </tr>\n",
              "    <tr>\n",
              "      <th>3</th>\n",
              "      <td>1</td>\n",
              "      <td>1</td>\n",
              "      <td>1</td>\n",
              "      <td>0</td>\n",
              "      <td>0</td>\n",
              "      <td>0</td>\n",
              "      <td>0</td>\n",
              "      <td>0</td>\n",
              "      <td>0</td>\n",
              "      <td>1</td>\n",
              "      <td>1</td>\n",
              "      <td>1</td>\n",
              "      <td>1</td>\n",
              "      <td>0</td>\n",
              "      <td>1</td>\n",
              "      <td>1</td>\n",
              "      <td>1</td>\n",
              "      <td>0</td>\n",
              "      <td>1</td>\n",
              "      <td>1</td>\n",
              "      <td>1</td>\n",
              "      <td>0</td>\n",
              "      <td>0</td>\n",
              "      <td>0</td>\n",
              "      <td>0</td>\n",
              "      <td>0</td>\n",
              "      <td>0</td>\n",
              "      <td>0</td>\n",
              "      <td>0</td>\n",
              "      <td>0</td>\n",
              "      <td>0</td>\n",
              "      <td>0</td>\n",
              "      <td>0</td>\n",
              "      <td>0</td>\n",
              "      <td>0</td>\n",
              "      <td>0</td>\n",
              "      <td>0</td>\n",
              "      <td>0</td>\n",
              "      <td>0</td>\n",
              "      <td>0</td>\n",
              "      <td>...</td>\n",
              "      <td>0</td>\n",
              "      <td>0</td>\n",
              "      <td>0</td>\n",
              "      <td>0</td>\n",
              "      <td>0</td>\n",
              "      <td>0</td>\n",
              "      <td>0</td>\n",
              "      <td>0</td>\n",
              "      <td>0</td>\n",
              "      <td>0</td>\n",
              "      <td>0</td>\n",
              "      <td>0</td>\n",
              "      <td>0</td>\n",
              "      <td>0</td>\n",
              "      <td>0</td>\n",
              "      <td>0</td>\n",
              "      <td>0</td>\n",
              "      <td>0</td>\n",
              "      <td>0</td>\n",
              "      <td>0</td>\n",
              "      <td>0</td>\n",
              "      <td>0</td>\n",
              "      <td>0</td>\n",
              "      <td>0</td>\n",
              "      <td>0</td>\n",
              "      <td>0</td>\n",
              "      <td>0</td>\n",
              "      <td>0</td>\n",
              "      <td>0</td>\n",
              "      <td>0</td>\n",
              "      <td>0</td>\n",
              "      <td>0</td>\n",
              "      <td>0</td>\n",
              "      <td>0</td>\n",
              "      <td>0</td>\n",
              "      <td>0</td>\n",
              "      <td>0</td>\n",
              "      <td>0</td>\n",
              "      <td>0</td>\n",
              "      <td>6.20</td>\n",
              "    </tr>\n",
              "    <tr>\n",
              "      <th>4</th>\n",
              "      <td>1</td>\n",
              "      <td>1</td>\n",
              "      <td>1</td>\n",
              "      <td>0</td>\n",
              "      <td>0</td>\n",
              "      <td>0</td>\n",
              "      <td>0</td>\n",
              "      <td>0</td>\n",
              "      <td>0</td>\n",
              "      <td>1</td>\n",
              "      <td>1</td>\n",
              "      <td>1</td>\n",
              "      <td>1</td>\n",
              "      <td>0</td>\n",
              "      <td>1</td>\n",
              "      <td>1</td>\n",
              "      <td>1</td>\n",
              "      <td>0</td>\n",
              "      <td>1</td>\n",
              "      <td>1</td>\n",
              "      <td>1</td>\n",
              "      <td>0</td>\n",
              "      <td>0</td>\n",
              "      <td>0</td>\n",
              "      <td>0</td>\n",
              "      <td>0</td>\n",
              "      <td>0</td>\n",
              "      <td>0</td>\n",
              "      <td>0</td>\n",
              "      <td>0</td>\n",
              "      <td>0</td>\n",
              "      <td>0</td>\n",
              "      <td>0</td>\n",
              "      <td>0</td>\n",
              "      <td>0</td>\n",
              "      <td>0</td>\n",
              "      <td>0</td>\n",
              "      <td>0</td>\n",
              "      <td>0</td>\n",
              "      <td>0</td>\n",
              "      <td>...</td>\n",
              "      <td>0</td>\n",
              "      <td>0</td>\n",
              "      <td>0</td>\n",
              "      <td>0</td>\n",
              "      <td>0</td>\n",
              "      <td>0</td>\n",
              "      <td>0</td>\n",
              "      <td>0</td>\n",
              "      <td>0</td>\n",
              "      <td>0</td>\n",
              "      <td>0</td>\n",
              "      <td>0</td>\n",
              "      <td>0</td>\n",
              "      <td>0</td>\n",
              "      <td>0</td>\n",
              "      <td>0</td>\n",
              "      <td>0</td>\n",
              "      <td>0</td>\n",
              "      <td>0</td>\n",
              "      <td>0</td>\n",
              "      <td>0</td>\n",
              "      <td>0</td>\n",
              "      <td>0</td>\n",
              "      <td>0</td>\n",
              "      <td>0</td>\n",
              "      <td>0</td>\n",
              "      <td>0</td>\n",
              "      <td>0</td>\n",
              "      <td>0</td>\n",
              "      <td>0</td>\n",
              "      <td>0</td>\n",
              "      <td>0</td>\n",
              "      <td>0</td>\n",
              "      <td>0</td>\n",
              "      <td>0</td>\n",
              "      <td>0</td>\n",
              "      <td>0</td>\n",
              "      <td>0</td>\n",
              "      <td>0</td>\n",
              "      <td>4.70</td>\n",
              "    </tr>\n",
              "  </tbody>\n",
              "</table>\n",
              "<p>5 rows × 882 columns</p>\n",
              "</div>"
            ],
            "text/plain": [
              "   PubchemFP0  PubchemFP1  PubchemFP2  ...  PubchemFP879  PubchemFP880  pIC50\n",
              "0           1           1           1  ...             0             0   5.32\n",
              "1           1           1           1  ...             0             0   4.74\n",
              "2           1           1           1  ...             0             0   5.37\n",
              "3           1           1           1  ...             0             0   6.20\n",
              "4           1           1           1  ...             0             0   4.70\n",
              "\n",
              "[5 rows x 882 columns]"
            ]
          },
          "metadata": {
            "tags": []
          },
          "execution_count": 3
        }
      ]
    },
    {
      "cell_type": "markdown",
      "metadata": {
        "id": "-xO9h5lP1cgf"
      },
      "source": [
        "The ***GAR transformylase*** dataset contains:\r\n",
        "- 881 features (PubChem fingerprint descriptors) \r\n",
        "- 1 target variable (pIC50 values)"
      ]
    },
    {
      "cell_type": "markdown",
      "metadata": {
        "id": "9HIeymwj1ncl"
      },
      "source": [
        "##X-Y split"
      ]
    },
    {
      "cell_type": "code",
      "metadata": {
        "colab": {
          "base_uri": "https://localhost:8080/"
        },
        "id": "sLcJVTXn1cLy",
        "outputId": "9b7c3816-f7ad-4553-9c24-e62e017615ff"
      },
      "source": [
        "X = df.drop(\"pIC50\", axis=1)\r\n",
        "Y = df[\"pIC50\"]\r\n",
        "\r\n",
        "print(\"GAR Transfomylase Dataset\")\r\n",
        "print(\"X - \", list(X.columns))\r\n",
        "print(\"Y - \", Y.name)"
      ],
      "execution_count": null,
      "outputs": [
        {
          "output_type": "stream",
          "text": [
            "GAR Transfomylase Dataset\n",
            "X -  ['PubchemFP0', 'PubchemFP1', 'PubchemFP2', 'PubchemFP3', 'PubchemFP4', 'PubchemFP5', 'PubchemFP6', 'PubchemFP7', 'PubchemFP8', 'PubchemFP9', 'PubchemFP10', 'PubchemFP11', 'PubchemFP12', 'PubchemFP13', 'PubchemFP14', 'PubchemFP15', 'PubchemFP16', 'PubchemFP17', 'PubchemFP18', 'PubchemFP19', 'PubchemFP20', 'PubchemFP21', 'PubchemFP22', 'PubchemFP23', 'PubchemFP24', 'PubchemFP25', 'PubchemFP26', 'PubchemFP27', 'PubchemFP28', 'PubchemFP29', 'PubchemFP30', 'PubchemFP31', 'PubchemFP32', 'PubchemFP33', 'PubchemFP34', 'PubchemFP35', 'PubchemFP36', 'PubchemFP37', 'PubchemFP38', 'PubchemFP39', 'PubchemFP40', 'PubchemFP41', 'PubchemFP42', 'PubchemFP43', 'PubchemFP44', 'PubchemFP45', 'PubchemFP46', 'PubchemFP47', 'PubchemFP48', 'PubchemFP49', 'PubchemFP50', 'PubchemFP51', 'PubchemFP52', 'PubchemFP53', 'PubchemFP54', 'PubchemFP55', 'PubchemFP56', 'PubchemFP57', 'PubchemFP58', 'PubchemFP59', 'PubchemFP60', 'PubchemFP61', 'PubchemFP62', 'PubchemFP63', 'PubchemFP64', 'PubchemFP65', 'PubchemFP66', 'PubchemFP67', 'PubchemFP68', 'PubchemFP69', 'PubchemFP70', 'PubchemFP71', 'PubchemFP72', 'PubchemFP73', 'PubchemFP74', 'PubchemFP75', 'PubchemFP76', 'PubchemFP77', 'PubchemFP78', 'PubchemFP79', 'PubchemFP80', 'PubchemFP81', 'PubchemFP82', 'PubchemFP83', 'PubchemFP84', 'PubchemFP85', 'PubchemFP86', 'PubchemFP87', 'PubchemFP88', 'PubchemFP89', 'PubchemFP90', 'PubchemFP91', 'PubchemFP92', 'PubchemFP93', 'PubchemFP94', 'PubchemFP95', 'PubchemFP96', 'PubchemFP97', 'PubchemFP98', 'PubchemFP99', 'PubchemFP100', 'PubchemFP101', 'PubchemFP102', 'PubchemFP103', 'PubchemFP104', 'PubchemFP105', 'PubchemFP106', 'PubchemFP107', 'PubchemFP108', 'PubchemFP109', 'PubchemFP110', 'PubchemFP111', 'PubchemFP112', 'PubchemFP113', 'PubchemFP114', 'PubchemFP115', 'PubchemFP116', 'PubchemFP117', 'PubchemFP118', 'PubchemFP119', 'PubchemFP120', 'PubchemFP121', 'PubchemFP122', 'PubchemFP123', 'PubchemFP124', 'PubchemFP125', 'PubchemFP126', 'PubchemFP127', 'PubchemFP128', 'PubchemFP129', 'PubchemFP130', 'PubchemFP131', 'PubchemFP132', 'PubchemFP133', 'PubchemFP134', 'PubchemFP135', 'PubchemFP136', 'PubchemFP137', 'PubchemFP138', 'PubchemFP139', 'PubchemFP140', 'PubchemFP141', 'PubchemFP142', 'PubchemFP143', 'PubchemFP144', 'PubchemFP145', 'PubchemFP146', 'PubchemFP147', 'PubchemFP148', 'PubchemFP149', 'PubchemFP150', 'PubchemFP151', 'PubchemFP152', 'PubchemFP153', 'PubchemFP154', 'PubchemFP155', 'PubchemFP156', 'PubchemFP157', 'PubchemFP158', 'PubchemFP159', 'PubchemFP160', 'PubchemFP161', 'PubchemFP162', 'PubchemFP163', 'PubchemFP164', 'PubchemFP165', 'PubchemFP166', 'PubchemFP167', 'PubchemFP168', 'PubchemFP169', 'PubchemFP170', 'PubchemFP171', 'PubchemFP172', 'PubchemFP173', 'PubchemFP174', 'PubchemFP175', 'PubchemFP176', 'PubchemFP177', 'PubchemFP178', 'PubchemFP179', 'PubchemFP180', 'PubchemFP181', 'PubchemFP182', 'PubchemFP183', 'PubchemFP184', 'PubchemFP185', 'PubchemFP186', 'PubchemFP187', 'PubchemFP188', 'PubchemFP189', 'PubchemFP190', 'PubchemFP191', 'PubchemFP192', 'PubchemFP193', 'PubchemFP194', 'PubchemFP195', 'PubchemFP196', 'PubchemFP197', 'PubchemFP198', 'PubchemFP199', 'PubchemFP200', 'PubchemFP201', 'PubchemFP202', 'PubchemFP203', 'PubchemFP204', 'PubchemFP205', 'PubchemFP206', 'PubchemFP207', 'PubchemFP208', 'PubchemFP209', 'PubchemFP210', 'PubchemFP211', 'PubchemFP212', 'PubchemFP213', 'PubchemFP214', 'PubchemFP215', 'PubchemFP216', 'PubchemFP217', 'PubchemFP218', 'PubchemFP219', 'PubchemFP220', 'PubchemFP221', 'PubchemFP222', 'PubchemFP223', 'PubchemFP224', 'PubchemFP225', 'PubchemFP226', 'PubchemFP227', 'PubchemFP228', 'PubchemFP229', 'PubchemFP230', 'PubchemFP231', 'PubchemFP232', 'PubchemFP233', 'PubchemFP234', 'PubchemFP235', 'PubchemFP236', 'PubchemFP237', 'PubchemFP238', 'PubchemFP239', 'PubchemFP240', 'PubchemFP241', 'PubchemFP242', 'PubchemFP243', 'PubchemFP244', 'PubchemFP245', 'PubchemFP246', 'PubchemFP247', 'PubchemFP248', 'PubchemFP249', 'PubchemFP250', 'PubchemFP251', 'PubchemFP252', 'PubchemFP253', 'PubchemFP254', 'PubchemFP255', 'PubchemFP256', 'PubchemFP257', 'PubchemFP258', 'PubchemFP259', 'PubchemFP260', 'PubchemFP261', 'PubchemFP262', 'PubchemFP263', 'PubchemFP264', 'PubchemFP265', 'PubchemFP266', 'PubchemFP267', 'PubchemFP268', 'PubchemFP269', 'PubchemFP270', 'PubchemFP271', 'PubchemFP272', 'PubchemFP273', 'PubchemFP274', 'PubchemFP275', 'PubchemFP276', 'PubchemFP277', 'PubchemFP278', 'PubchemFP279', 'PubchemFP280', 'PubchemFP281', 'PubchemFP282', 'PubchemFP283', 'PubchemFP284', 'PubchemFP285', 'PubchemFP286', 'PubchemFP287', 'PubchemFP288', 'PubchemFP289', 'PubchemFP290', 'PubchemFP291', 'PubchemFP292', 'PubchemFP293', 'PubchemFP294', 'PubchemFP295', 'PubchemFP296', 'PubchemFP297', 'PubchemFP298', 'PubchemFP299', 'PubchemFP300', 'PubchemFP301', 'PubchemFP302', 'PubchemFP303', 'PubchemFP304', 'PubchemFP305', 'PubchemFP306', 'PubchemFP307', 'PubchemFP308', 'PubchemFP309', 'PubchemFP310', 'PubchemFP311', 'PubchemFP312', 'PubchemFP313', 'PubchemFP314', 'PubchemFP315', 'PubchemFP316', 'PubchemFP317', 'PubchemFP318', 'PubchemFP319', 'PubchemFP320', 'PubchemFP321', 'PubchemFP322', 'PubchemFP323', 'PubchemFP324', 'PubchemFP325', 'PubchemFP326', 'PubchemFP327', 'PubchemFP328', 'PubchemFP329', 'PubchemFP330', 'PubchemFP331', 'PubchemFP332', 'PubchemFP333', 'PubchemFP334', 'PubchemFP335', 'PubchemFP336', 'PubchemFP337', 'PubchemFP338', 'PubchemFP339', 'PubchemFP340', 'PubchemFP341', 'PubchemFP342', 'PubchemFP343', 'PubchemFP344', 'PubchemFP345', 'PubchemFP346', 'PubchemFP347', 'PubchemFP348', 'PubchemFP349', 'PubchemFP350', 'PubchemFP351', 'PubchemFP352', 'PubchemFP353', 'PubchemFP354', 'PubchemFP355', 'PubchemFP356', 'PubchemFP357', 'PubchemFP358', 'PubchemFP359', 'PubchemFP360', 'PubchemFP361', 'PubchemFP362', 'PubchemFP363', 'PubchemFP364', 'PubchemFP365', 'PubchemFP366', 'PubchemFP367', 'PubchemFP368', 'PubchemFP369', 'PubchemFP370', 'PubchemFP371', 'PubchemFP372', 'PubchemFP373', 'PubchemFP374', 'PubchemFP375', 'PubchemFP376', 'PubchemFP377', 'PubchemFP378', 'PubchemFP379', 'PubchemFP380', 'PubchemFP381', 'PubchemFP382', 'PubchemFP383', 'PubchemFP384', 'PubchemFP385', 'PubchemFP386', 'PubchemFP387', 'PubchemFP388', 'PubchemFP389', 'PubchemFP390', 'PubchemFP391', 'PubchemFP392', 'PubchemFP393', 'PubchemFP394', 'PubchemFP395', 'PubchemFP396', 'PubchemFP397', 'PubchemFP398', 'PubchemFP399', 'PubchemFP400', 'PubchemFP401', 'PubchemFP402', 'PubchemFP403', 'PubchemFP404', 'PubchemFP405', 'PubchemFP406', 'PubchemFP407', 'PubchemFP408', 'PubchemFP409', 'PubchemFP410', 'PubchemFP411', 'PubchemFP412', 'PubchemFP413', 'PubchemFP414', 'PubchemFP415', 'PubchemFP416', 'PubchemFP417', 'PubchemFP418', 'PubchemFP419', 'PubchemFP420', 'PubchemFP421', 'PubchemFP422', 'PubchemFP423', 'PubchemFP424', 'PubchemFP425', 'PubchemFP426', 'PubchemFP427', 'PubchemFP428', 'PubchemFP429', 'PubchemFP430', 'PubchemFP431', 'PubchemFP432', 'PubchemFP433', 'PubchemFP434', 'PubchemFP435', 'PubchemFP436', 'PubchemFP437', 'PubchemFP438', 'PubchemFP439', 'PubchemFP440', 'PubchemFP441', 'PubchemFP442', 'PubchemFP443', 'PubchemFP444', 'PubchemFP445', 'PubchemFP446', 'PubchemFP447', 'PubchemFP448', 'PubchemFP449', 'PubchemFP450', 'PubchemFP451', 'PubchemFP452', 'PubchemFP453', 'PubchemFP454', 'PubchemFP455', 'PubchemFP456', 'PubchemFP457', 'PubchemFP458', 'PubchemFP459', 'PubchemFP460', 'PubchemFP461', 'PubchemFP462', 'PubchemFP463', 'PubchemFP464', 'PubchemFP465', 'PubchemFP466', 'PubchemFP467', 'PubchemFP468', 'PubchemFP469', 'PubchemFP470', 'PubchemFP471', 'PubchemFP472', 'PubchemFP473', 'PubchemFP474', 'PubchemFP475', 'PubchemFP476', 'PubchemFP477', 'PubchemFP478', 'PubchemFP479', 'PubchemFP480', 'PubchemFP481', 'PubchemFP482', 'PubchemFP483', 'PubchemFP484', 'PubchemFP485', 'PubchemFP486', 'PubchemFP487', 'PubchemFP488', 'PubchemFP489', 'PubchemFP490', 'PubchemFP491', 'PubchemFP492', 'PubchemFP493', 'PubchemFP494', 'PubchemFP495', 'PubchemFP496', 'PubchemFP497', 'PubchemFP498', 'PubchemFP499', 'PubchemFP500', 'PubchemFP501', 'PubchemFP502', 'PubchemFP503', 'PubchemFP504', 'PubchemFP505', 'PubchemFP506', 'PubchemFP507', 'PubchemFP508', 'PubchemFP509', 'PubchemFP510', 'PubchemFP511', 'PubchemFP512', 'PubchemFP513', 'PubchemFP514', 'PubchemFP515', 'PubchemFP516', 'PubchemFP517', 'PubchemFP518', 'PubchemFP519', 'PubchemFP520', 'PubchemFP521', 'PubchemFP522', 'PubchemFP523', 'PubchemFP524', 'PubchemFP525', 'PubchemFP526', 'PubchemFP527', 'PubchemFP528', 'PubchemFP529', 'PubchemFP530', 'PubchemFP531', 'PubchemFP532', 'PubchemFP533', 'PubchemFP534', 'PubchemFP535', 'PubchemFP536', 'PubchemFP537', 'PubchemFP538', 'PubchemFP539', 'PubchemFP540', 'PubchemFP541', 'PubchemFP542', 'PubchemFP543', 'PubchemFP544', 'PubchemFP545', 'PubchemFP546', 'PubchemFP547', 'PubchemFP548', 'PubchemFP549', 'PubchemFP550', 'PubchemFP551', 'PubchemFP552', 'PubchemFP553', 'PubchemFP554', 'PubchemFP555', 'PubchemFP556', 'PubchemFP557', 'PubchemFP558', 'PubchemFP559', 'PubchemFP560', 'PubchemFP561', 'PubchemFP562', 'PubchemFP563', 'PubchemFP564', 'PubchemFP565', 'PubchemFP566', 'PubchemFP567', 'PubchemFP568', 'PubchemFP569', 'PubchemFP570', 'PubchemFP571', 'PubchemFP572', 'PubchemFP573', 'PubchemFP574', 'PubchemFP575', 'PubchemFP576', 'PubchemFP577', 'PubchemFP578', 'PubchemFP579', 'PubchemFP580', 'PubchemFP581', 'PubchemFP582', 'PubchemFP583', 'PubchemFP584', 'PubchemFP585', 'PubchemFP586', 'PubchemFP587', 'PubchemFP588', 'PubchemFP589', 'PubchemFP590', 'PubchemFP591', 'PubchemFP592', 'PubchemFP593', 'PubchemFP594', 'PubchemFP595', 'PubchemFP596', 'PubchemFP597', 'PubchemFP598', 'PubchemFP599', 'PubchemFP600', 'PubchemFP601', 'PubchemFP602', 'PubchemFP603', 'PubchemFP604', 'PubchemFP605', 'PubchemFP606', 'PubchemFP607', 'PubchemFP608', 'PubchemFP609', 'PubchemFP610', 'PubchemFP611', 'PubchemFP612', 'PubchemFP613', 'PubchemFP614', 'PubchemFP615', 'PubchemFP616', 'PubchemFP617', 'PubchemFP618', 'PubchemFP619', 'PubchemFP620', 'PubchemFP621', 'PubchemFP622', 'PubchemFP623', 'PubchemFP624', 'PubchemFP625', 'PubchemFP626', 'PubchemFP627', 'PubchemFP628', 'PubchemFP629', 'PubchemFP630', 'PubchemFP631', 'PubchemFP632', 'PubchemFP633', 'PubchemFP634', 'PubchemFP635', 'PubchemFP636', 'PubchemFP637', 'PubchemFP638', 'PubchemFP639', 'PubchemFP640', 'PubchemFP641', 'PubchemFP642', 'PubchemFP643', 'PubchemFP644', 'PubchemFP645', 'PubchemFP646', 'PubchemFP647', 'PubchemFP648', 'PubchemFP649', 'PubchemFP650', 'PubchemFP651', 'PubchemFP652', 'PubchemFP653', 'PubchemFP654', 'PubchemFP655', 'PubchemFP656', 'PubchemFP657', 'PubchemFP658', 'PubchemFP659', 'PubchemFP660', 'PubchemFP661', 'PubchemFP662', 'PubchemFP663', 'PubchemFP664', 'PubchemFP665', 'PubchemFP666', 'PubchemFP667', 'PubchemFP668', 'PubchemFP669', 'PubchemFP670', 'PubchemFP671', 'PubchemFP672', 'PubchemFP673', 'PubchemFP674', 'PubchemFP675', 'PubchemFP676', 'PubchemFP677', 'PubchemFP678', 'PubchemFP679', 'PubchemFP680', 'PubchemFP681', 'PubchemFP682', 'PubchemFP683', 'PubchemFP684', 'PubchemFP685', 'PubchemFP686', 'PubchemFP687', 'PubchemFP688', 'PubchemFP689', 'PubchemFP690', 'PubchemFP691', 'PubchemFP692', 'PubchemFP693', 'PubchemFP694', 'PubchemFP695', 'PubchemFP696', 'PubchemFP697', 'PubchemFP698', 'PubchemFP699', 'PubchemFP700', 'PubchemFP701', 'PubchemFP702', 'PubchemFP703', 'PubchemFP704', 'PubchemFP705', 'PubchemFP706', 'PubchemFP707', 'PubchemFP708', 'PubchemFP709', 'PubchemFP710', 'PubchemFP711', 'PubchemFP712', 'PubchemFP713', 'PubchemFP714', 'PubchemFP715', 'PubchemFP716', 'PubchemFP717', 'PubchemFP718', 'PubchemFP719', 'PubchemFP720', 'PubchemFP721', 'PubchemFP722', 'PubchemFP723', 'PubchemFP724', 'PubchemFP725', 'PubchemFP726', 'PubchemFP727', 'PubchemFP728', 'PubchemFP729', 'PubchemFP730', 'PubchemFP731', 'PubchemFP732', 'PubchemFP733', 'PubchemFP734', 'PubchemFP735', 'PubchemFP736', 'PubchemFP737', 'PubchemFP738', 'PubchemFP739', 'PubchemFP740', 'PubchemFP741', 'PubchemFP742', 'PubchemFP743', 'PubchemFP744', 'PubchemFP745', 'PubchemFP746', 'PubchemFP747', 'PubchemFP748', 'PubchemFP749', 'PubchemFP750', 'PubchemFP751', 'PubchemFP752', 'PubchemFP753', 'PubchemFP754', 'PubchemFP755', 'PubchemFP756', 'PubchemFP757', 'PubchemFP758', 'PubchemFP759', 'PubchemFP760', 'PubchemFP761', 'PubchemFP762', 'PubchemFP763', 'PubchemFP764', 'PubchemFP765', 'PubchemFP766', 'PubchemFP767', 'PubchemFP768', 'PubchemFP769', 'PubchemFP770', 'PubchemFP771', 'PubchemFP772', 'PubchemFP773', 'PubchemFP774', 'PubchemFP775', 'PubchemFP776', 'PubchemFP777', 'PubchemFP778', 'PubchemFP779', 'PubchemFP780', 'PubchemFP781', 'PubchemFP782', 'PubchemFP783', 'PubchemFP784', 'PubchemFP785', 'PubchemFP786', 'PubchemFP787', 'PubchemFP788', 'PubchemFP789', 'PubchemFP790', 'PubchemFP791', 'PubchemFP792', 'PubchemFP793', 'PubchemFP794', 'PubchemFP795', 'PubchemFP796', 'PubchemFP797', 'PubchemFP798', 'PubchemFP799', 'PubchemFP800', 'PubchemFP801', 'PubchemFP802', 'PubchemFP803', 'PubchemFP804', 'PubchemFP805', 'PubchemFP806', 'PubchemFP807', 'PubchemFP808', 'PubchemFP809', 'PubchemFP810', 'PubchemFP811', 'PubchemFP812', 'PubchemFP813', 'PubchemFP814', 'PubchemFP815', 'PubchemFP816', 'PubchemFP817', 'PubchemFP818', 'PubchemFP819', 'PubchemFP820', 'PubchemFP821', 'PubchemFP822', 'PubchemFP823', 'PubchemFP824', 'PubchemFP825', 'PubchemFP826', 'PubchemFP827', 'PubchemFP828', 'PubchemFP829', 'PubchemFP830', 'PubchemFP831', 'PubchemFP832', 'PubchemFP833', 'PubchemFP834', 'PubchemFP835', 'PubchemFP836', 'PubchemFP837', 'PubchemFP838', 'PubchemFP839', 'PubchemFP840', 'PubchemFP841', 'PubchemFP842', 'PubchemFP843', 'PubchemFP844', 'PubchemFP845', 'PubchemFP846', 'PubchemFP847', 'PubchemFP848', 'PubchemFP849', 'PubchemFP850', 'PubchemFP851', 'PubchemFP852', 'PubchemFP853', 'PubchemFP854', 'PubchemFP855', 'PubchemFP856', 'PubchemFP857', 'PubchemFP858', 'PubchemFP859', 'PubchemFP860', 'PubchemFP861', 'PubchemFP862', 'PubchemFP863', 'PubchemFP864', 'PubchemFP865', 'PubchemFP866', 'PubchemFP867', 'PubchemFP868', 'PubchemFP869', 'PubchemFP870', 'PubchemFP871', 'PubchemFP872', 'PubchemFP873', 'PubchemFP874', 'PubchemFP875', 'PubchemFP876', 'PubchemFP877', 'PubchemFP878', 'PubchemFP879', 'PubchemFP880']\n",
            "Y -  pIC50\n"
          ],
          "name": "stdout"
        }
      ]
    },
    {
      "cell_type": "markdown",
      "metadata": {
        "id": "wzM59xzs22nS"
      },
      "source": [
        "## Feature selection"
      ]
    },
    {
      "cell_type": "markdown",
      "metadata": {
        "id": "04wS1Gdl26ck"
      },
      "source": [
        "Apply the **Low variance threshold** method"
      ]
    },
    {
      "cell_type": "code",
      "metadata": {
        "id": "PyXD_7_n23Ry"
      },
      "source": [
        "from sklearn.feature_selection import VarianceThreshold\r\n",
        "\r\n",
        "def variance_threshold_selector(data, threshold=(.8 * (1 - .8))):\r\n",
        "    selector = VarianceThreshold(threshold)\r\n",
        "    selector.fit(data)\r\n",
        "    return data[data.columns[selector.get_support(indices=True)]]"
      ],
      "execution_count": null,
      "outputs": []
    },
    {
      "cell_type": "code",
      "metadata": {
        "colab": {
          "base_uri": "https://localhost:8080/"
        },
        "id": "jZZBp68m3B1M",
        "outputId": "ac3a04c2-2639-498a-e618-f7f988074baf"
      },
      "source": [
        "X_selected = variance_threshold_selector(X)\r\n",
        "\r\n",
        "X_selected.shape"
      ],
      "execution_count": null,
      "outputs": [
        {
          "output_type": "execute_result",
          "data": {
            "text/plain": [
              "(69, 75)"
            ]
          },
          "metadata": {
            "tags": []
          },
          "execution_count": 13
        }
      ]
    },
    {
      "cell_type": "markdown",
      "metadata": {
        "id": "YjYVwbAS3Z94"
      },
      "source": [
        "## Test-train split"
      ]
    },
    {
      "cell_type": "markdown",
      "metadata": {
        "id": "j3l6bwnP3g7W"
      },
      "source": [
        "80/20 ratio"
      ]
    },
    {
      "cell_type": "code",
      "metadata": {
        "colab": {
          "base_uri": "https://localhost:8080/"
        },
        "id": "ZDoLwmm63bI2",
        "outputId": "70c61501-b19c-46aa-8ca4-5ca2f9c0b86e"
      },
      "source": [
        "X_train, X_test, Y_train, Y_test = train_test_split(X_selected, Y, test_size=0.2)\r\n",
        "\r\n",
        "Y_train.reset_index(inplace=True, drop=True)\r\n",
        "Y_test.reset_index(inplace=True, drop=True)\r\n",
        "X_train.reset_index(inplace=True, drop=True)\r\n",
        "X_test.reset_index(inplace=True, drop=True)\r\n",
        "\r\n",
        "print(\"Size of the original dataset:\\n\", X_selected.shape, Y.shape)\r\n",
        "print(\"Size of the train dataset:\\n\", X_train.shape, Y_train.shape)\r\n",
        "print(\"Size of the test dataset:\\n\", X_test.shape, Y_test.shape)"
      ],
      "execution_count": null,
      "outputs": [
        {
          "output_type": "stream",
          "text": [
            "Size of the original dataset:\n",
            " (69, 75) (69,)\n",
            "Size of the train dataset:\n",
            " (55, 75) (55,)\n",
            "Size of the test dataset:\n",
            " (14, 75) (14,)\n"
          ],
          "name": "stdout"
        }
      ]
    },
    {
      "cell_type": "markdown",
      "metadata": {
        "id": "-S4jpkiD3qLk"
      },
      "source": [
        "##Compare ML algorithms"
      ]
    },
    {
      "cell_type": "markdown",
      "metadata": {
        "id": "cJr_VcKP4GfC"
      },
      "source": [
        "Define LazyRegressor"
      ]
    },
    {
      "cell_type": "code",
      "metadata": {
        "colab": {
          "base_uri": "https://localhost:8080/"
        },
        "id": "U0Fz208b3uEC",
        "outputId": "a8769242-c85c-4ed7-d28a-e32b0e61ca7f"
      },
      "source": [
        "clf = LazyRegressor(verbose=0,ignore_warnings=True, custom_metric=None)\r\n",
        "models, predictions = clf.fit(X_train, X_test, Y_train, Y_test)"
      ],
      "execution_count": null,
      "outputs": [
        {
          "output_type": "stream",
          "text": [
            "100%|██████████| 39/39 [00:05<00:00,  7.35it/s]"
          ],
          "name": "stderr"
        },
        {
          "output_type": "stream",
          "text": [
            "[18:13:35] WARNING: /workspace/src/objective/regression_obj.cu:152: reg:linear is now deprecated in favor of reg:squarederror.\n"
          ],
          "name": "stdout"
        },
        {
          "output_type": "stream",
          "text": [
            "\n"
          ],
          "name": "stderr"
        }
      ]
    },
    {
      "cell_type": "markdown",
      "metadata": {
        "id": "Np8zVzWM5F-X"
      },
      "source": [
        "Show the performance table."
      ]
    },
    {
      "cell_type": "code",
      "metadata": {
        "colab": {
          "base_uri": "https://localhost:8080/",
          "height": 1000
        },
        "id": "py2ScJdj5Gft",
        "outputId": "fdd1b50c-48b4-4de4-91cd-fd6dec8d0d6c"
      },
      "source": [
        "models"
      ],
      "execution_count": null,
      "outputs": [
        {
          "output_type": "execute_result",
          "data": {
            "text/html": [
              "<div>\n",
              "<style scoped>\n",
              "    .dataframe tbody tr th:only-of-type {\n",
              "        vertical-align: middle;\n",
              "    }\n",
              "\n",
              "    .dataframe tbody tr th {\n",
              "        vertical-align: top;\n",
              "    }\n",
              "\n",
              "    .dataframe thead th {\n",
              "        text-align: right;\n",
              "    }\n",
              "</style>\n",
              "<table border=\"1\" class=\"dataframe\">\n",
              "  <thead>\n",
              "    <tr style=\"text-align: right;\">\n",
              "      <th></th>\n",
              "      <th>R-Squared</th>\n",
              "      <th>RMSE</th>\n",
              "      <th>Time Taken</th>\n",
              "    </tr>\n",
              "    <tr>\n",
              "      <th>Model</th>\n",
              "      <th></th>\n",
              "      <th></th>\n",
              "      <th></th>\n",
              "    </tr>\n",
              "  </thead>\n",
              "  <tbody>\n",
              "    <tr>\n",
              "      <th>SVR</th>\n",
              "      <td>0.79</td>\n",
              "      <td>0.77</td>\n",
              "      <td>0.03</td>\n",
              "    </tr>\n",
              "    <tr>\n",
              "      <th>NuSVR</th>\n",
              "      <td>0.74</td>\n",
              "      <td>0.87</td>\n",
              "      <td>0.01</td>\n",
              "    </tr>\n",
              "    <tr>\n",
              "      <th>OrthogonalMatchingPursuit</th>\n",
              "      <td>0.67</td>\n",
              "      <td>0.97</td>\n",
              "      <td>0.02</td>\n",
              "    </tr>\n",
              "    <tr>\n",
              "      <th>LinearSVR</th>\n",
              "      <td>0.57</td>\n",
              "      <td>1.11</td>\n",
              "      <td>0.03</td>\n",
              "    </tr>\n",
              "    <tr>\n",
              "      <th>OrthogonalMatchingPursuitCV</th>\n",
              "      <td>0.53</td>\n",
              "      <td>1.17</td>\n",
              "      <td>0.02</td>\n",
              "    </tr>\n",
              "    <tr>\n",
              "      <th>RidgeCV</th>\n",
              "      <td>0.52</td>\n",
              "      <td>1.18</td>\n",
              "      <td>0.03</td>\n",
              "    </tr>\n",
              "    <tr>\n",
              "      <th>LGBMRegressor</th>\n",
              "      <td>0.51</td>\n",
              "      <td>1.19</td>\n",
              "      <td>0.03</td>\n",
              "    </tr>\n",
              "    <tr>\n",
              "      <th>HistGradientBoostingRegressor</th>\n",
              "      <td>0.51</td>\n",
              "      <td>1.19</td>\n",
              "      <td>0.09</td>\n",
              "    </tr>\n",
              "    <tr>\n",
              "      <th>SGDRegressor</th>\n",
              "      <td>0.49</td>\n",
              "      <td>1.22</td>\n",
              "      <td>0.03</td>\n",
              "    </tr>\n",
              "    <tr>\n",
              "      <th>BaggingRegressor</th>\n",
              "      <td>0.40</td>\n",
              "      <td>1.32</td>\n",
              "      <td>0.03</td>\n",
              "    </tr>\n",
              "    <tr>\n",
              "      <th>Ridge</th>\n",
              "      <td>0.38</td>\n",
              "      <td>1.34</td>\n",
              "      <td>0.02</td>\n",
              "    </tr>\n",
              "    <tr>\n",
              "      <th>KNeighborsRegressor</th>\n",
              "      <td>0.27</td>\n",
              "      <td>1.45</td>\n",
              "      <td>0.01</td>\n",
              "    </tr>\n",
              "    <tr>\n",
              "      <th>BayesianRidge</th>\n",
              "      <td>0.27</td>\n",
              "      <td>1.45</td>\n",
              "      <td>0.03</td>\n",
              "    </tr>\n",
              "    <tr>\n",
              "      <th>LassoCV</th>\n",
              "      <td>0.25</td>\n",
              "      <td>1.47</td>\n",
              "      <td>1.65</td>\n",
              "    </tr>\n",
              "    <tr>\n",
              "      <th>MLPRegressor</th>\n",
              "      <td>0.23</td>\n",
              "      <td>1.49</td>\n",
              "      <td>0.25</td>\n",
              "    </tr>\n",
              "    <tr>\n",
              "      <th>LarsCV</th>\n",
              "      <td>0.22</td>\n",
              "      <td>1.50</td>\n",
              "      <td>0.13</td>\n",
              "    </tr>\n",
              "    <tr>\n",
              "      <th>LassoLarsCV</th>\n",
              "      <td>0.22</td>\n",
              "      <td>1.50</td>\n",
              "      <td>0.04</td>\n",
              "    </tr>\n",
              "    <tr>\n",
              "      <th>ElasticNetCV</th>\n",
              "      <td>0.15</td>\n",
              "      <td>1.57</td>\n",
              "      <td>1.99</td>\n",
              "    </tr>\n",
              "    <tr>\n",
              "      <th>RandomForestRegressor</th>\n",
              "      <td>0.07</td>\n",
              "      <td>1.64</td>\n",
              "      <td>0.17</td>\n",
              "    </tr>\n",
              "    <tr>\n",
              "      <th>ElasticNet</th>\n",
              "      <td>0.06</td>\n",
              "      <td>1.65</td>\n",
              "      <td>0.03</td>\n",
              "    </tr>\n",
              "    <tr>\n",
              "      <th>HuberRegressor</th>\n",
              "      <td>-0.12</td>\n",
              "      <td>1.80</td>\n",
              "      <td>0.04</td>\n",
              "    </tr>\n",
              "    <tr>\n",
              "      <th>PassiveAggressiveRegressor</th>\n",
              "      <td>-0.17</td>\n",
              "      <td>1.84</td>\n",
              "      <td>0.01</td>\n",
              "    </tr>\n",
              "    <tr>\n",
              "      <th>AdaBoostRegressor</th>\n",
              "      <td>-0.18</td>\n",
              "      <td>1.85</td>\n",
              "      <td>0.03</td>\n",
              "    </tr>\n",
              "    <tr>\n",
              "      <th>XGBRegressor</th>\n",
              "      <td>-0.25</td>\n",
              "      <td>1.90</td>\n",
              "      <td>0.06</td>\n",
              "    </tr>\n",
              "    <tr>\n",
              "      <th>Lasso</th>\n",
              "      <td>-0.29</td>\n",
              "      <td>1.93</td>\n",
              "      <td>0.01</td>\n",
              "    </tr>\n",
              "    <tr>\n",
              "      <th>DummyRegressor</th>\n",
              "      <td>-0.36</td>\n",
              "      <td>1.98</td>\n",
              "      <td>0.03</td>\n",
              "    </tr>\n",
              "    <tr>\n",
              "      <th>LassoLarsIC</th>\n",
              "      <td>-0.36</td>\n",
              "      <td>1.98</td>\n",
              "      <td>0.02</td>\n",
              "    </tr>\n",
              "    <tr>\n",
              "      <th>LassoLars</th>\n",
              "      <td>-0.36</td>\n",
              "      <td>1.98</td>\n",
              "      <td>0.01</td>\n",
              "    </tr>\n",
              "    <tr>\n",
              "      <th>GradientBoostingRegressor</th>\n",
              "      <td>-0.91</td>\n",
              "      <td>2.35</td>\n",
              "      <td>0.07</td>\n",
              "    </tr>\n",
              "    <tr>\n",
              "      <th>ExtraTreeRegressor</th>\n",
              "      <td>-1.57</td>\n",
              "      <td>2.73</td>\n",
              "      <td>0.01</td>\n",
              "    </tr>\n",
              "    <tr>\n",
              "      <th>DecisionTreeRegressor</th>\n",
              "      <td>-1.57</td>\n",
              "      <td>2.73</td>\n",
              "      <td>0.03</td>\n",
              "    </tr>\n",
              "    <tr>\n",
              "      <th>ExtraTreesRegressor</th>\n",
              "      <td>-1.58</td>\n",
              "      <td>2.73</td>\n",
              "      <td>0.12</td>\n",
              "    </tr>\n",
              "    <tr>\n",
              "      <th>GaussianProcessRegressor</th>\n",
              "      <td>-2.89</td>\n",
              "      <td>3.36</td>\n",
              "      <td>0.02</td>\n",
              "    </tr>\n",
              "    <tr>\n",
              "      <th>TransformedTargetRegressor</th>\n",
              "      <td>-9.27</td>\n",
              "      <td>5.45</td>\n",
              "      <td>0.04</td>\n",
              "    </tr>\n",
              "    <tr>\n",
              "      <th>LinearRegression</th>\n",
              "      <td>-9.27</td>\n",
              "      <td>5.45</td>\n",
              "      <td>0.01</td>\n",
              "    </tr>\n",
              "    <tr>\n",
              "      <th>KernelRidge</th>\n",
              "      <td>-12.95</td>\n",
              "      <td>6.35</td>\n",
              "      <td>0.02</td>\n",
              "    </tr>\n",
              "    <tr>\n",
              "      <th>Lars</th>\n",
              "      <td>-675.83</td>\n",
              "      <td>44.24</td>\n",
              "      <td>0.07</td>\n",
              "    </tr>\n",
              "  </tbody>\n",
              "</table>\n",
              "</div>"
            ],
            "text/plain": [
              "                               R-Squared  RMSE  Time Taken\n",
              "Model                                                     \n",
              "SVR                                 0.79  0.77        0.03\n",
              "NuSVR                               0.74  0.87        0.01\n",
              "OrthogonalMatchingPursuit           0.67  0.97        0.02\n",
              "LinearSVR                           0.57  1.11        0.03\n",
              "OrthogonalMatchingPursuitCV         0.53  1.17        0.02\n",
              "RidgeCV                             0.52  1.18        0.03\n",
              "LGBMRegressor                       0.51  1.19        0.03\n",
              "HistGradientBoostingRegressor       0.51  1.19        0.09\n",
              "SGDRegressor                        0.49  1.22        0.03\n",
              "BaggingRegressor                    0.40  1.32        0.03\n",
              "Ridge                               0.38  1.34        0.02\n",
              "KNeighborsRegressor                 0.27  1.45        0.01\n",
              "BayesianRidge                       0.27  1.45        0.03\n",
              "LassoCV                             0.25  1.47        1.65\n",
              "MLPRegressor                        0.23  1.49        0.25\n",
              "LarsCV                              0.22  1.50        0.13\n",
              "LassoLarsCV                         0.22  1.50        0.04\n",
              "ElasticNetCV                        0.15  1.57        1.99\n",
              "RandomForestRegressor               0.07  1.64        0.17\n",
              "ElasticNet                          0.06  1.65        0.03\n",
              "HuberRegressor                     -0.12  1.80        0.04\n",
              "PassiveAggressiveRegressor         -0.17  1.84        0.01\n",
              "AdaBoostRegressor                  -0.18  1.85        0.03\n",
              "XGBRegressor                       -0.25  1.90        0.06\n",
              "Lasso                              -0.29  1.93        0.01\n",
              "DummyRegressor                     -0.36  1.98        0.03\n",
              "LassoLarsIC                        -0.36  1.98        0.02\n",
              "LassoLars                          -0.36  1.98        0.01\n",
              "GradientBoostingRegressor          -0.91  2.35        0.07\n",
              "ExtraTreeRegressor                 -1.57  2.73        0.01\n",
              "DecisionTreeRegressor              -1.57  2.73        0.03\n",
              "ExtraTreesRegressor                -1.58  2.73        0.12\n",
              "GaussianProcessRegressor           -2.89  3.36        0.02\n",
              "TransformedTargetRegressor         -9.27  5.45        0.04\n",
              "LinearRegression                   -9.27  5.45        0.01\n",
              "KernelRidge                       -12.95  6.35        0.02\n",
              "Lars                             -675.83 44.24        0.07"
            ]
          },
          "metadata": {
            "tags": []
          },
          "execution_count": 44
        }
      ]
    },
    {
      "cell_type": "markdown",
      "metadata": {
        "id": "owijMy604m0y"
      },
      "source": [
        "## Visualize models' performance"
      ]
    },
    {
      "cell_type": "code",
      "metadata": {
        "colab": {
          "base_uri": "https://localhost:8080/",
          "height": 628
        },
        "id": "c2gQTJA_4tLZ",
        "outputId": "160e8e00-523b-4596-ee05-f0bfbdc6aef1"
      },
      "source": [
        "# Bar plot of R-squared values\r\n",
        "import matplotlib.pyplot as plt\r\n",
        "import seaborn as sns\r\n",
        "\r\n",
        "\r\n",
        "plt.figure(figsize=(5, 10))\r\n",
        "sns.set_theme(style=\"whitegrid\")\r\n",
        "ax = sns.barplot(y=models.index, x=\"R-Squared\", data=models)\r\n",
        "ax.set(xlim=(0, 1))"
      ],
      "execution_count": null,
      "outputs": [
        {
          "output_type": "execute_result",
          "data": {
            "text/plain": [
              "[(0.0, 1.0)]"
            ]
          },
          "metadata": {
            "tags": []
          },
          "execution_count": 40
        },
        {
          "output_type": "display_data",
          "data": {
            "image/png": "[encoded data removed]",
            "text/plain": [
              "<Figure size 360x720 with 1 Axes>"
            ]
          },
          "metadata": {
            "tags": []
          }
        }
      ]
    },
    {
      "cell_type": "code",
      "metadata": {
        "colab": {
          "base_uri": "https://localhost:8080/",
          "height": 628
        },
        "id": "ugqWrW4e43av",
        "outputId": "b7b645db-7390-4877-e342-ef6f2f576839"
      },
      "source": [
        "# Bar plot of RMSE values\r\n",
        "import matplotlib.pyplot as plt\r\n",
        "import seaborn as sns\r\n",
        "\r\n",
        "plt.figure(figsize=(5, 10))\r\n",
        "sns.set_theme(style=\"whitegrid\")\r\n",
        "ax = sns.barplot(y=models.index, x=\"RMSE\", data=models)\r\n",
        "ax.set(xlim=(0, 10))"
      ],
      "execution_count": null,
      "outputs": [
        {
          "output_type": "execute_result",
          "data": {
            "text/plain": [
              "[(0.0, 10.0)]"
            ]
          },
          "metadata": {
            "tags": []
          },
          "execution_count": 41
        },
        {
          "output_type": "display_data",
          "data": {
            "image/png": "[encoded data removed]",
            "text/plain": [
              "<Figure size 360x720 with 1 Axes>"
            ]
          },
          "metadata": {
            "tags": []
          }
        }
      ]
    },
    {
      "cell_type": "code",
      "metadata": {
        "colab": {
          "base_uri": "https://localhost:8080/",
          "height": 628
        },
        "id": "Dfp-404y45lK",
        "outputId": "e6057bc0-c0d8-4cc0-a45a-ef34b2f02508"
      },
      "source": [
        "# Bar plot of calculation time\r\n",
        "import matplotlib.pyplot as plt\r\n",
        "import seaborn as sns\r\n",
        "\r\n",
        "plt.figure(figsize=(5, 10))\r\n",
        "sns.set_theme(style=\"whitegrid\")\r\n",
        "ax = sns.barplot(y=models.index, x=\"Time Taken\", data=models)\r\n",
        "ax.set(xlim=(0, 10))"
      ],
      "execution_count": null,
      "outputs": [
        {
          "output_type": "execute_result",
          "data": {
            "text/plain": [
              "[(0.0, 10.0)]"
            ]
          },
          "metadata": {
            "tags": []
          },
          "execution_count": 42
        },
        {
          "output_type": "display_data",
          "data": {
            "image/png": "[encoded data removed]",
            "text/plain": [
              "<Figure size 360x720 with 1 Axes>"
            ]
          },
          "metadata": {
            "tags": []
          }
        }
      ]
    }
  ]
}