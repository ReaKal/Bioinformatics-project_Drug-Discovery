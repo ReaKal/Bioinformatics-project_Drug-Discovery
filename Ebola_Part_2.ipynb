{
  "nbformat": 4,
  "nbformat_minor": 0,
  "metadata": {
    "colab": {
      "name": "Ebola - Part 2.ipynb",
      "provenance": [],
      "collapsed_sections": [],
      "toc_visible": true
    },
    "kernelspec": {
      "name": "python3",
      "display_name": "Python 3"
    }
  },
  "cells": [
    {
      "cell_type": "markdown",
      "metadata": {
        "id": "YeMUXfQRSE69"
      },
      "source": [
        "#Compute molecular descriptors and perform EDA\r\n",
        " A follow along project on drug discovery for *Zaire ebolavirus*\r\n",
        " "
      ]
    },
    {
      "cell_type": "markdown",
      "metadata": {
        "id": "KSZkiqdC0eyj"
      },
      "source": [
        "by Rea Kalampaliki\r\n",
        "\r\n",
        "**Digital mentor**: Chanin Nantasenamat ([Data Professor](https://www.youtube.com/watch?v=qWVTxfLq2ak&list=PLtqF5YXg7GLlQJUv9XJ3RWdd5VYGwBHrP&index=2))"
      ]
    },
    {
      "cell_type": "markdown",
      "metadata": {
        "id": "_f16hrH-TVc4"
      },
      "source": [
        "##Install Conda and rdkit"
      ]
    },
    {
      "cell_type": "code",
      "metadata": {
        "colab": {
          "base_uri": "https://localhost:8080/"
        },
        "id": "nZtHccMojFkJ",
        "outputId": "59fb691e-e9d1-45af-e105-69c7e43fd3a1"
      },
      "source": [
        "! wget https://repo.anaconda.com/miniconda/Miniconda3-py37_4.8.2-Linux-x86_64.sh\r\n",
        "! chmod +x Miniconda3-py37_4.8.2-Linux-x86_64.sh\r\n",
        "! bash ./Miniconda3-py37_4.8.2-Linux-x86_64.sh -b -f -p /usr/local\r\n",
        "! conda install -c rdkit rdkit -y\r\n",
        "import sys\r\n",
        "sys.path.append('/usr/local/lib/python3.7/site-packages/')"
      ],
      "execution_count": null,
      "outputs": [
        {
          "output_type": "stream",
          "text": [
            "--2021-02-01 17:03:41--  https://repo.anaconda.com/miniconda/Miniconda3-py37_4.8.2-Linux-x86_64.sh\n",
            "Resolving repo.anaconda.com (repo.anaconda.com)... 104.16.130.3, 104.16.131.3, 2606:4700::6810:8203, ...\n",
            "Connecting to repo.anaconda.com (repo.anaconda.com)|104.16.130.3|:443... connected.\n",
            "HTTP request sent, awaiting response... 200 OK\n",
            "Length: 85055499 (81M) [application/x-sh]\n",
            "Saving to: ‘Miniconda3-py37_4.8.2-Linux-x86_64.sh’\n",
            "\n",
            "Miniconda3-py37_4.8 100%[===================>]  81.12M  78.9MB/s    in 1.0s    \n",
            "\n",
            "2021-02-01 17:03:42 (78.9 MB/s) - ‘Miniconda3-py37_4.8.2-Linux-x86_64.sh’ saved [85055499/85055499]\n",
            "\n",
            "PREFIX=/usr/local\n",
            "Unpacking payload ...\n",
            "Collecting package metadata (current_repodata.json): - \b\b\\ \b\b| \b\bdone\n",
            "Solving environment: - \b\bdone\n",
            "\n",
            "## Package Plan ##\n",
            "\n",
            "  environment location: /usr/local\n",
            "\n",
            "  added / updated specs:\n",
            "    - _libgcc_mutex==0.1=main\n",
            "    - asn1crypto==1.3.0=py37_0\n",
            "    - ca-certificates==2020.1.1=0\n",
            "    - certifi==2019.11.28=py37_0\n",
            "    - cffi==1.14.0=py37h2e261b9_0\n",
            "    - chardet==3.0.4=py37_1003\n",
            "    - conda-package-handling==1.6.0=py37h7b6447c_0\n",
            "    - conda==4.8.2=py37_0\n",
            "    - cryptography==2.8=py37h1ba5d50_0\n",
            "    - idna==2.8=py37_0\n",
            "    - ld_impl_linux-64==2.33.1=h53a641e_7\n",
            "    - libedit==3.1.20181209=hc058e9b_0\n",
            "    - libffi==3.2.1=hd88cf55_4\n",
            "    - libgcc-ng==9.1.0=hdf63c60_0\n",
            "    - libstdcxx-ng==9.1.0=hdf63c60_0\n",
            "    - ncurses==6.2=he6710b0_0\n",
            "    - openssl==1.1.1d=h7b6447c_4\n",
            "    - pip==20.0.2=py37_1\n",
            "    - pycosat==0.6.3=py37h7b6447c_0\n",
            "    - pycparser==2.19=py37_0\n",
            "    - pyopenssl==19.1.0=py37_0\n",
            "    - pysocks==1.7.1=py37_0\n",
            "    - python==3.7.6=h0371630_2\n",
            "    - readline==7.0=h7b6447c_5\n",
            "    - requests==2.22.0=py37_1\n",
            "    - ruamel_yaml==0.15.87=py37h7b6447c_0\n",
            "    - setuptools==45.2.0=py37_0\n",
            "    - six==1.14.0=py37_0\n",
            "    - sqlite==3.31.1=h7b6447c_0\n",
            "    - tk==8.6.8=hbc83047_0\n",
            "    - tqdm==4.42.1=py_0\n",
            "    - urllib3==1.25.8=py37_0\n",
            "    - wheel==0.34.2=py37_0\n",
            "    - xz==5.2.4=h14c3975_4\n",
            "    - yaml==0.1.7=had09818_2\n",
            "    - zlib==1.2.11=h7b6447c_3\n",
            "\n",
            "\n",
            "The following NEW packages will be INSTALLED:\n",
            "\n",
            "  _libgcc_mutex      pkgs/main/linux-64::_libgcc_mutex-0.1-main\n",
            "  asn1crypto         pkgs/main/linux-64::asn1crypto-1.3.0-py37_0\n",
            "  ca-certificates    pkgs/main/linux-64::ca-certificates-2020.1.1-0\n",
            "  certifi            pkgs/main/linux-64::certifi-2019.11.28-py37_0\n",
            "  cffi               pkgs/main/linux-64::cffi-1.14.0-py37h2e261b9_0\n",
            "  chardet            pkgs/main/linux-64::chardet-3.0.4-py37_1003\n",
            "  conda              pkgs/main/linux-64::conda-4.8.2-py37_0\n",
            "  conda-package-han~ pkgs/main/linux-64::conda-package-handling-1.6.0-py37h7b6447c_0\n",
            "  cryptography       pkgs/main/linux-64::cryptography-2.8-py37h1ba5d50_0\n",
            "  idna               pkgs/main/linux-64::idna-2.8-py37_0\n",
            "  ld_impl_linux-64   pkgs/main/linux-64::ld_impl_linux-64-2.33.1-h53a641e_7\n",
            "  libedit            pkgs/main/linux-64::libedit-3.1.20181209-hc058e9b_0\n",
            "  libffi             pkgs/main/linux-64::libffi-3.2.1-hd88cf55_4\n",
            "  libgcc-ng          pkgs/main/linux-64::libgcc-ng-9.1.0-hdf63c60_0\n",
            "  libstdcxx-ng       pkgs/main/linux-64::libstdcxx-ng-9.1.0-hdf63c60_0\n",
            "  ncurses            pkgs/main/linux-64::ncurses-6.2-he6710b0_0\n",
            "  openssl            pkgs/main/linux-64::openssl-1.1.1d-h7b6447c_4\n",
            "  pip                pkgs/main/linux-64::pip-20.0.2-py37_1\n",
            "  pycosat            pkgs/main/linux-64::pycosat-0.6.3-py37h7b6447c_0\n",
            "  pycparser          pkgs/main/linux-64::pycparser-2.19-py37_0\n",
            "  pyopenssl          pkgs/main/linux-64::pyopenssl-19.1.0-py37_0\n",
            "  pysocks            pkgs/main/linux-64::pysocks-1.7.1-py37_0\n",
            "  python             pkgs/main/linux-64::python-3.7.6-h0371630_2\n",
            "  readline           pkgs/main/linux-64::readline-7.0-h7b6447c_5\n",
            "  requests           pkgs/main/linux-64::requests-2.22.0-py37_1\n",
            "  ruamel_yaml        pkgs/main/linux-64::ruamel_yaml-0.15.87-py37h7b6447c_0\n",
            "  setuptools         pkgs/main/linux-64::setuptools-45.2.0-py37_0\n",
            "  six                pkgs/main/linux-64::six-1.14.0-py37_0\n",
            "  sqlite             pkgs/main/linux-64::sqlite-3.31.1-h7b6447c_0\n",
            "  tk                 pkgs/main/linux-64::tk-8.6.8-hbc83047_0\n",
            "  tqdm               pkgs/main/noarch::tqdm-4.42.1-py_0\n",
            "  urllib3            pkgs/main/linux-64::urllib3-1.25.8-py37_0\n",
            "  wheel              pkgs/main/linux-64::wheel-0.34.2-py37_0\n",
            "  xz                 pkgs/main/linux-64::xz-5.2.4-h14c3975_4\n",
            "  yaml               pkgs/main/linux-64::yaml-0.1.7-had09818_2\n",
            "  zlib               pkgs/main/linux-64::zlib-1.2.11-h7b6447c_3\n",
            "\n",
            "\n",
            "Preparing transaction: | \b\b/ \b\b- \b\b\\ \b\bdone\n",
            "Executing transaction: / \b\b- \b\b\\ \b\b| \b\b/ \b\b- \b\b\\ \b\b| \b\b/ \b\b- \b\b\\ \b\b| \b\b/ \b\b- \b\b\\ \b\bdone\n",
            "installation finished.\n",
            "WARNING:\n",
            "    You currently have a PYTHONPATH environment variable set. This may cause\n",
            "    unexpected behavior when running the Python interpreter in Miniconda3.\n",
            "    For best results, please verify that your PYTHONPATH only points to\n",
            "    directories of packages that are compatible with the Python interpreter\n",
            "    in Miniconda3: /usr/local\n",
            "Collecting package metadata (current_repodata.json): - \b\b\\ \b\b| \b\b/ \b\b- \b\b\\ \b\b| \b\b/ \b\b- \b\b\\ \b\b| \b\b/ \b\b- \b\b\\ \b\b| \b\b/ \b\b- \b\b\\ \b\bdone\n",
            "Solving environment: / \b\b- \b\b\\ \b\b| \b\b/ \b\b- \b\b\\ \b\b| \b\b/ \b\b- \b\b\\ \b\bdone\n",
            "\n",
            "## Package Plan ##\n",
            "\n",
            "  environment location: /usr/local\n",
            "\n",
            "  added / updated specs:\n",
            "    - rdkit\n",
            "\n",
            "\n",
            "The following packages will be downloaded:\n",
            "\n",
            "    package                    |            build\n",
            "    ---------------------------|-----------------\n",
            "    blas-1.0                   |              mkl           6 KB\n",
            "    bzip2-1.0.8                |       h7b6447c_0          78 KB\n",
            "    ca-certificates-2021.1.19  |       h06a4308_0         121 KB\n",
            "    cairo-1.14.12              |       h8948797_3         906 KB\n",
            "    certifi-2020.12.5          |   py37h06a4308_0         141 KB\n",
            "    conda-4.9.2                |   py37h06a4308_0         2.9 MB\n",
            "    fontconfig-2.13.0          |       h9420a91_0         227 KB\n",
            "    freetype-2.10.4            |       h5ab3b9f_0         596 KB\n",
            "    glib-2.66.1                |       h92f7085_0         2.9 MB\n",
            "    icu-58.2                   |       he6710b0_3        10.5 MB\n",
            "    intel-openmp-2020.2        |              254         786 KB\n",
            "    jpeg-9b                    |       h024ee3a_2         214 KB\n",
            "    lcms2-2.11                 |       h396b838_0         307 KB\n",
            "    libboost-1.73.0            |      h3ff78a5_11        13.9 MB\n",
            "    libffi-3.3                 |       he6710b0_2          50 KB\n",
            "    libpng-1.6.37              |       hbc83047_0         278 KB\n",
            "    libtiff-4.1.0              |       h2733197_1         449 KB\n",
            "    libuuid-1.0.3              |       h1bed415_2          15 KB\n",
            "    libxcb-1.14                |       h7b6447c_0         505 KB\n",
            "    libxml2-2.9.10             |       hb55368b_3         1.2 MB\n",
            "    lz4-c-1.9.3                |       h2531618_0         186 KB\n",
            "    mkl-2020.2                 |              256       138.3 MB\n",
            "    mkl-service-2.3.0          |   py37he8ac12f_0          52 KB\n",
            "    mkl_fft-1.2.0              |   py37h23d657b_0         148 KB\n",
            "    mkl_random-1.1.1           |   py37h0573a6f_0         322 KB\n",
            "    numpy-1.19.2               |   py37h54aff64_0          22 KB\n",
            "    numpy-base-1.19.2          |   py37hfa32c7d_0         4.1 MB\n",
            "    olefile-0.46               |           py37_0          50 KB\n",
            "    openssl-1.1.1i             |       h27cfd23_0         2.5 MB\n",
            "    pandas-1.2.1               |   py37ha9443f7_0         8.5 MB\n",
            "    pcre-8.44                  |       he6710b0_0         212 KB\n",
            "    pillow-8.1.0               |   py37he98fc37_0         623 KB\n",
            "    pixman-0.40.0              |       h7b6447c_0         370 KB\n",
            "    py-boost-1.73.0            |  py37ha9443f7_11         204 KB\n",
            "    python-dateutil-2.8.1      |     pyhd3eb1b0_0         221 KB\n",
            "    pytz-2020.5                |     pyhd3eb1b0_0         182 KB\n",
            "    rdkit-2020.09.1.0          |   py37hd50e099_1        25.8 MB  rdkit\n",
            "    xz-5.2.5                   |       h7b6447c_0         341 KB\n",
            "    zstd-1.4.5                 |       h9ceee32_0         619 KB\n",
            "    ------------------------------------------------------------\n",
            "                                           Total:       218.7 MB\n",
            "\n",
            "The following NEW packages will be INSTALLED:\n",
            "\n",
            "  blas               pkgs/main/linux-64::blas-1.0-mkl\n",
            "  bzip2              pkgs/main/linux-64::bzip2-1.0.8-h7b6447c_0\n",
            "  cairo              pkgs/main/linux-64::cairo-1.14.12-h8948797_3\n",
            "  fontconfig         pkgs/main/linux-64::fontconfig-2.13.0-h9420a91_0\n",
            "  freetype           pkgs/main/linux-64::freetype-2.10.4-h5ab3b9f_0\n",
            "  glib               pkgs/main/linux-64::glib-2.66.1-h92f7085_0\n",
            "  icu                pkgs/main/linux-64::icu-58.2-he6710b0_3\n",
            "  intel-openmp       pkgs/main/linux-64::intel-openmp-2020.2-254\n",
            "  jpeg               pkgs/main/linux-64::jpeg-9b-h024ee3a_2\n",
            "  lcms2              pkgs/main/linux-64::lcms2-2.11-h396b838_0\n",
            "  libboost           pkgs/main/linux-64::libboost-1.73.0-h3ff78a5_11\n",
            "  libpng             pkgs/main/linux-64::libpng-1.6.37-hbc83047_0\n",
            "  libtiff            pkgs/main/linux-64::libtiff-4.1.0-h2733197_1\n",
            "  libuuid            pkgs/main/linux-64::libuuid-1.0.3-h1bed415_2\n",
            "  libxcb             pkgs/main/linux-64::libxcb-1.14-h7b6447c_0\n",
            "  libxml2            pkgs/main/linux-64::libxml2-2.9.10-hb55368b_3\n",
            "  lz4-c              pkgs/main/linux-64::lz4-c-1.9.3-h2531618_0\n",
            "  mkl                pkgs/main/linux-64::mkl-2020.2-256\n",
            "  mkl-service        pkgs/main/linux-64::mkl-service-2.3.0-py37he8ac12f_0\n",
            "  mkl_fft            pkgs/main/linux-64::mkl_fft-1.2.0-py37h23d657b_0\n",
            "  mkl_random         pkgs/main/linux-64::mkl_random-1.1.1-py37h0573a6f_0\n",
            "  numpy              pkgs/main/linux-64::numpy-1.19.2-py37h54aff64_0\n",
            "  numpy-base         pkgs/main/linux-64::numpy-base-1.19.2-py37hfa32c7d_0\n",
            "  olefile            pkgs/main/linux-64::olefile-0.46-py37_0\n",
            "  pandas             pkgs/main/linux-64::pandas-1.2.1-py37ha9443f7_0\n",
            "  pcre               pkgs/main/linux-64::pcre-8.44-he6710b0_0\n",
            "  pillow             pkgs/main/linux-64::pillow-8.1.0-py37he98fc37_0\n",
            "  pixman             pkgs/main/linux-64::pixman-0.40.0-h7b6447c_0\n",
            "  py-boost           pkgs/main/linux-64::py-boost-1.73.0-py37ha9443f7_11\n",
            "  python-dateutil    pkgs/main/noarch::python-dateutil-2.8.1-pyhd3eb1b0_0\n",
            "  pytz               pkgs/main/noarch::pytz-2020.5-pyhd3eb1b0_0\n",
            "  rdkit              rdkit/linux-64::rdkit-2020.09.1.0-py37hd50e099_1\n",
            "  zstd               pkgs/main/linux-64::zstd-1.4.5-h9ceee32_0\n",
            "\n",
            "The following packages will be UPDATED:\n",
            "\n",
            "  ca-certificates                                2020.1.1-0 --> 2021.1.19-h06a4308_0\n",
            "  certifi                                 2019.11.28-py37_0 --> 2020.12.5-py37h06a4308_0\n",
            "  conda                                        4.8.2-py37_0 --> 4.9.2-py37h06a4308_0\n",
            "  libffi                                   3.2.1-hd88cf55_4 --> 3.3-he6710b0_2\n",
            "  openssl                                 1.1.1d-h7b6447c_4 --> 1.1.1i-h27cfd23_0\n",
            "  xz                                       5.2.4-h14c3975_4 --> 5.2.5-h7b6447c_0\n",
            "\n",
            "\n",
            "\n",
            "Downloading and Extracting Packages\n",
            "certifi-2020.12.5    | 141 KB    | : 100% 1.0/1 [00:00<00:00,  6.47it/s]               \n",
            "numpy-1.19.2         | 22 KB     | : 100% 1.0/1 [00:00<00:00, 19.14it/s]\n",
            "libxml2-2.9.10       | 1.2 MB    | : 100% 1.0/1 [00:00<00:00,  7.13it/s]\n",
            "mkl_fft-1.2.0        | 148 KB    | : 100% 1.0/1 [00:00<00:00, 17.99it/s]\n",
            "pillow-8.1.0         | 623 KB    | : 100% 1.0/1 [00:00<00:00, 11.71it/s]\n",
            "lz4-c-1.9.3          | 186 KB    | : 100% 1.0/1 [00:00<00:00, 10.40it/s]\n",
            "lcms2-2.11           | 307 KB    | : 100% 1.0/1 [00:00<00:00, 14.42it/s]\n",
            "pytz-2020.5          | 182 KB    | : 100% 1.0/1 [00:00<00:00, 11.67it/s]\n",
            "py-boost-1.73.0      | 204 KB    | : 100% 1.0/1 [00:00<00:00, 12.41it/s]\n",
            "glib-2.66.1          | 2.9 MB    | : 100% 1.0/1 [00:00<00:00,  4.70it/s]\n",
            "freetype-2.10.4      | 596 KB    | : 100% 1.0/1 [00:00<00:00, 13.34it/s]\n",
            "fontconfig-2.13.0    | 227 KB    | : 100% 1.0/1 [00:00<00:00, 17.38it/s]\n",
            "python-dateutil-2.8. | 221 KB    | : 100% 1.0/1 [00:00<00:00, 14.07it/s]\n",
            "libboost-1.73.0      | 13.9 MB   | : 100% 1.0/1 [00:01<00:00,  1.36s/it]              \n",
            "libuuid-1.0.3        | 15 KB     | : 100% 1.0/1 [00:00<00:00, 17.61it/s]\n",
            "mkl_random-1.1.1     | 322 KB    | : 100% 1.0/1 [00:00<00:00, 14.29it/s]\n",
            "libxcb-1.14          | 505 KB    | : 100% 1.0/1 [00:00<00:00,  9.66it/s]\n",
            "blas-1.0             | 6 KB      | : 100% 1.0/1 [00:00<00:00, 13.09it/s]\n",
            "zstd-1.4.5           | 619 KB    | : 100% 1.0/1 [00:00<00:00, 11.93it/s]\n",
            "pixman-0.40.0        | 370 KB    | : 100% 1.0/1 [00:00<00:00, 14.77it/s]\n",
            "rdkit-2020.09.1.0    | 25.8 MB   | : 100% 1.0/1 [00:05<00:00,  5.27s/it]\n",
            "libpng-1.6.37        | 278 KB    | : 100% 1.0/1 [00:00<00:00, 15.31it/s]\n",
            "bzip2-1.0.8          | 78 KB     | : 100% 1.0/1 [00:00<00:00, 15.80it/s]\n",
            "cairo-1.14.12        | 906 KB    | : 100% 1.0/1 [00:00<00:00,  9.59it/s]\n",
            "intel-openmp-2020.2  | 786 KB    | : 100% 1.0/1 [00:00<00:00, 10.00it/s]\n",
            "olefile-0.46         | 50 KB     | : 100% 1.0/1 [00:00<00:00, 13.10it/s]\n",
            "xz-5.2.5             | 341 KB    | : 100% 1.0/1 [00:00<00:00, 11.46it/s]\n",
            "pcre-8.44            | 212 KB    | : 100% 1.0/1 [00:00<00:00, 15.28it/s]\n",
            "pandas-1.2.1         | 8.5 MB    | : 100% 1.0/1 [00:00<00:00,  1.70it/s]               \n",
            "libffi-3.3           | 50 KB     | : 100% 1.0/1 [00:00<00:00, 15.90it/s]\n",
            "jpeg-9b              | 214 KB    | : 100% 1.0/1 [00:00<00:00, 15.43it/s]\n",
            "libtiff-4.1.0        | 449 KB    | : 100% 1.0/1 [00:00<00:00, 14.83it/s]\n",
            "conda-4.9.2          | 2.9 MB    | : 100% 1.0/1 [00:00<00:00,  6.11it/s]\n",
            "openssl-1.1.1i       | 2.5 MB    | : 100% 1.0/1 [00:00<00:00,  7.29it/s]\n",
            "mkl-2020.2           | 138.3 MB  | : 100% 1.0/1 [00:05<00:00,  5.06s/it]               \n",
            "icu-58.2             | 10.5 MB   | : 100% 1.0/1 [00:00<00:00,  2.66it/s]                \n",
            "mkl-service-2.3.0    | 52 KB     | : 100% 1.0/1 [00:00<00:00, 15.36it/s]\n",
            "numpy-base-1.19.2    | 4.1 MB    | : 100% 1.0/1 [00:00<00:00,  3.45it/s]               \n",
            "ca-certificates-2021 | 121 KB    | : 100% 1.0/1 [00:00<00:00, 16.67it/s]\n",
            "Preparing transaction: / \b\b- \b\b\\ \b\b| \b\b/ \b\b- \b\b\\ \b\b| \b\b/ \b\b- \b\bdone\n",
            "Verifying transaction: | \b\b/ \b\b- \b\b\\ \b\b| \b\b/ \b\b- \b\b\\ \b\b| \b\b/ \b\b- \b\b\\ \b\b| \b\b/ \b\b- \b\b\\ \b\b| \b\b/ \b\b- \b\b\\ \b\b| \b\b/ \b\b- \b\b\\ \b\b| \b\b/ \b\b- \b\bdone\n",
            "Executing transaction: | \b\b/ \b\b- \b\b\\ \b\b| \b\b/ \b\b- \b\b\\ \b\b| \b\b/ \b\b- \b\b\\ \b\b| \b\b/ \b\b- \b\b\\ \b\b| \b\b/ \b\b- \b\b\\ \b\b| \b\b/ \b\b- \b\b\\ \b\b| \b\b/ \b\b- \b\b\\ \b\b| \b\b/ \b\b- \b\b\\ \b\b| \b\b/ \b\b- \b\b\\ \b\b| \b\b/ \b\b- \b\b\\ \b\b| \b\b/ \b\b- \b\b\\ \b\b| \b\b/ \b\b- \b\b\\ \b\b| \b\b/ \b\b- \b\b\\ \b\b| \b\b/ \b\b- \b\b\\ \b\b| \b\b/ \b\b- \b\b\\ \b\b| \b\b/ \b\b- \b\b\\ \b\b| \b\b/ \b\b- \b\b\\ \b\b| \b\b/ \b\b- \b\b\\ \b\b| \b\b/ \b\b- \b\b\\ \b\b| \b\b/ \b\b- \b\b\\ \b\b| \b\b/ \b\b- \b\b\\ \b\b| \b\b/ \b\b- \b\b\\ \b\b| \b\b/ \b\b- \b\b\\ \b\b| \b\b/ \b\b- \b\b\\ \b\b| \b\b/ \b\b- \b\b\\ \b\b| \b\b/ \b\b- \b\b\\ \b\b| \b\b/ \b\b- \b\b\\ \b\b| \b\b/ \b\b- \b\b\\ \b\b| \b\b/ \b\b- \b\b\\ \b\b| \b\b/ \b\b- \b\b\\ \b\b| \b\b/ \b\b- \b\b\\ \b\b| \b\b/ \b\b- \b\b\\ \b\b| \b\b/ \b\b- \b\b\\ \b\b| \b\b/ \b\b- \b\b\\ \b\b| \b\b/ \b\b- \b\b\\ \b\b| \b\b/ \b\b- \b\b\\ \b\b| \b\b/ \b\b- \b\b\\ \b\b| \b\b/ \b\b- \b\b\\ \b\b| \b\b/ \b\b- \b\b\\ \b\b| \b\b/ \b\b- \b\b\\ \b\b| \b\b/ \b\b- \b\b\\ \b\b| \b\b/ \b\b- \b\b\\ \b\b| \b\b/ \b\b- \b\b\\ \b\b| \b\b/ \b\b- \b\b\\ \b\b| \b\b/ \b\b- \b\b\\ \b\b| \b\b/ \b\b- \b\b\\ \b\b| \b\b/ \b\b- \b\b\\ \b\b| \b\b/ \b\b- \b\b\\ \b\b| \b\b/ \b\b- \b\b\\ \b\b| \b\b/ \b\b- \b\b\\ \b\b| \b\b/ \b\b- \b\b\\ \b\b| \b\b/ \b\b- \b\b\\ \b\b| \b\b/ \b\b- \b\b\\ \b\b| \b\b/ \b\b- \b\b\\ \b\b| \b\b/ \b\b- \b\b\\ \b\b| \b\b/ \b\b- \b\b\\ \b\b| \b\b/ \b\b- \b\b\\ \b\b| \b\b/ \b\b- \b\b\\ \b\b| \b\b/ \b\b- \b\b\\ \b\b| \b\b/ \b\b- \b\b\\ \b\b| \b\b/ \b\b- \b\b\\ \b\b| \b\b/ \b\b- \b\b\\ \b\b| \b\b/ \b\b- \b\b\\ \b\b| \b\b/ \b\b- \b\b\\ \b\b| \b\b/ \b\b- \b\b\\ \b\b| \b\b/ \b\b- \b\b\\ \b\b| \b\b/ \b\b- \b\b\\ \b\b| \b\b/ \b\b- \b\b\\ \b\b| \b\b/ \b\b- \b\b\\ \b\b| \b\b/ \b\b- \b\b\\ \b\b| \b\b/ \b\b- \b\b\\ \b\b| \b\b/ \b\b- \b\b\\ \b\b| \b\b/ \b\b- \b\b\\ \b\b| \b\b/ \b\b- \b\b\\ \b\bdone\n"
          ],
          "name": "stdout"
        }
      ]
    },
    {
      "cell_type": "markdown",
      "metadata": {
        "id": "cH9qnotZT9I1"
      },
      "source": [
        "##Load bioactivity data"
      ]
    },
    {
      "cell_type": "code",
      "metadata": {
        "colab": {
          "base_uri": "https://localhost:8080/",
          "height": 212
        },
        "id": "KJ1amFDpT_6V",
        "outputId": "041fe9d8-4c87-4080-bc4f-35633b10af41"
      },
      "source": [
        "import pandas as pd\r\n",
        "df = pd.read_csv('/content/GAR_transformylase_03_bioactivity_data_curated.csv')\r\n",
        "print(df.shape)\r\n",
        "df.head()"
      ],
      "execution_count": null,
      "outputs": [
        {
          "output_type": "stream",
          "text": [
            "(69, 4)\n"
          ],
          "name": "stdout"
        },
        {
          "output_type": "execute_result",
          "data": {
            "text/html": [
              "<div>\n",
              "<style scoped>\n",
              "    .dataframe tbody tr th:only-of-type {\n",
              "        vertical-align: middle;\n",
              "    }\n",
              "\n",
              "    .dataframe tbody tr th {\n",
              "        vertical-align: top;\n",
              "    }\n",
              "\n",
              "    .dataframe thead th {\n",
              "        text-align: right;\n",
              "    }\n",
              "</style>\n",
              "<table border=\"1\" class=\"dataframe\">\n",
              "  <thead>\n",
              "    <tr style=\"text-align: right;\">\n",
              "      <th></th>\n",
              "      <th>molecule_chembl_id</th>\n",
              "      <th>canonical_smiles</th>\n",
              "      <th>IC50</th>\n",
              "      <th>class</th>\n",
              "    </tr>\n",
              "  </thead>\n",
              "  <tbody>\n",
              "    <tr>\n",
              "      <th>0</th>\n",
              "      <td>CHEMBL289923</td>\n",
              "      <td>NCCCC(NC(=O)c1ccc(NCC2CNc3nc(N)nc(O)c3C2)cc1)C...</td>\n",
              "      <td>4800.0</td>\n",
              "      <td>intermediate</td>\n",
              "    </tr>\n",
              "    <tr>\n",
              "      <th>1</th>\n",
              "      <td>CHEMBL152172</td>\n",
              "      <td>Nc1nc(N)c(CCCN(C=O)c2ccc(C(=O)NC(CCC(=O)O)C(=O...</td>\n",
              "      <td>18000.0</td>\n",
              "      <td>inactive</td>\n",
              "    </tr>\n",
              "    <tr>\n",
              "      <th>2</th>\n",
              "      <td>CHEMBL153550</td>\n",
              "      <td>CN(CCCc1c(N)nc(N)nc1O)c1ccc(C(=O)NC(CCC(=O)O)C...</td>\n",
              "      <td>4300.0</td>\n",
              "      <td>intermediate</td>\n",
              "    </tr>\n",
              "    <tr>\n",
              "      <th>3</th>\n",
              "      <td>CHEMBL13659</td>\n",
              "      <td>Nc1nc(N)c(CCCNc2ccc(C(=O)N[C@@H](CCC(=O)O)C(=O...</td>\n",
              "      <td>630.0</td>\n",
              "      <td>active</td>\n",
              "    </tr>\n",
              "    <tr>\n",
              "      <th>4</th>\n",
              "      <td>CHEMBL158034</td>\n",
              "      <td>Nc1nc(O)c2c(n1)NCC1CCN(c3ccc(C(=O)NC(CCC(=O)O)...</td>\n",
              "      <td>20000.0</td>\n",
              "      <td>inactive</td>\n",
              "    </tr>\n",
              "  </tbody>\n",
              "</table>\n",
              "</div>"
            ],
            "text/plain": [
              "  molecule_chembl_id  ...         class\n",
              "0       CHEMBL289923  ...  intermediate\n",
              "1       CHEMBL152172  ...      inactive\n",
              "2       CHEMBL153550  ...  intermediate\n",
              "3        CHEMBL13659  ...        active\n",
              "4       CHEMBL158034  ...      inactive\n",
              "\n",
              "[5 rows x 4 columns]"
            ]
          },
          "metadata": {
            "tags": []
          },
          "execution_count": 3
        }
      ]
    },
    {
      "cell_type": "markdown",
      "metadata": {
        "id": "1B56Z06KVBA9"
      },
      "source": [
        "##Calculate Lipinski descriptors"
      ]
    },
    {
      "cell_type": "markdown",
      "metadata": {
        "id": "FzSPrjzyV4b4"
      },
      "source": [
        "Rule-of-five describes a drug as following:\r\n",
        "* Molecular weight < 500 Dalton\r\n",
        "* Octanol-water partition coefficient (LogP) < 5\r\n",
        "* Hydrogen bond donors < 5\r\n",
        "* Hydrogen bond acceptors < 10 "
      ]
    },
    {
      "cell_type": "code",
      "metadata": {
        "id": "Lx9ThaxOV7or"
      },
      "source": [
        "import numpy as np\r\n",
        "from rdkit import Chem\r\n",
        "from rdkit.Chem import Descriptors, Lipinski"
      ],
      "execution_count": null,
      "outputs": []
    },
    {
      "cell_type": "code",
      "metadata": {
        "id": "4z4NfniSW5Zw"
      },
      "source": [
        "# Inspired by: https://codeocean.com/explore/capsules?query=tag:data-curation\r\n",
        "\r\n",
        "def lipinski(smiles, verbose=False):\r\n",
        "\r\n",
        "    moldata= []\r\n",
        "    for elem in smiles:\r\n",
        "        mol=Chem.MolFromSmiles(elem) \r\n",
        "        moldata.append(mol)\r\n",
        "    \r\n",
        "    baseData= np.arange(1,1)\r\n",
        "    i=0  \r\n",
        "    for mol in moldata:        \r\n",
        "       \r\n",
        "        desc_MolWt = Descriptors.MolWt(mol)\r\n",
        "        desc_MolLogP = Descriptors.MolLogP(mol)\r\n",
        "        desc_NumHDonors = Lipinski.NumHDonors(mol)\r\n",
        "        desc_NumHAcceptors = Lipinski.NumHAcceptors(mol)\r\n",
        "           \r\n",
        "        row = np.array([desc_MolWt,\r\n",
        "                        desc_MolLogP,\r\n",
        "                        desc_NumHDonors,\r\n",
        "                        desc_NumHAcceptors])   \r\n",
        "    \r\n",
        "        if(i==0):\r\n",
        "            baseData=row\r\n",
        "        else:\r\n",
        "            baseData=np.vstack([baseData, row])\r\n",
        "        i=i+1      \r\n",
        "    \r\n",
        "    columnNames=[\"MW\",\"LogP\",\"NumHDonors\",\"NumHAcceptors\"]   \r\n",
        "    descriptors = pd.DataFrame(data=baseData,columns=columnNames)\r\n",
        "    \r\n",
        "    return descriptors"
      ],
      "execution_count": null,
      "outputs": []
    },
    {
      "cell_type": "code",
      "metadata": {
        "colab": {
          "base_uri": "https://localhost:8080/",
          "height": 212
        },
        "id": "rC0qgsecaj8P",
        "outputId": "a0382cf3-de4a-4a8c-929f-12ee02d84ae7"
      },
      "source": [
        "df_lipinski = lipinski(df.canonical_smiles)\r\n",
        "\r\n",
        "print(df_lipinski.shape)\r\n",
        "df_lipinski.head()"
      ],
      "execution_count": null,
      "outputs": [
        {
          "output_type": "stream",
          "text": [
            "(69, 4)\n"
          ],
          "name": "stdout"
        },
        {
          "output_type": "execute_result",
          "data": {
            "text/html": [
              "<div>\n",
              "<style scoped>\n",
              "    .dataframe tbody tr th:only-of-type {\n",
              "        vertical-align: middle;\n",
              "    }\n",
              "\n",
              "    .dataframe tbody tr th {\n",
              "        vertical-align: top;\n",
              "    }\n",
              "\n",
              "    .dataframe thead th {\n",
              "        text-align: right;\n",
              "    }\n",
              "</style>\n",
              "<table border=\"1\" class=\"dataframe\">\n",
              "  <thead>\n",
              "    <tr style=\"text-align: right;\">\n",
              "      <th></th>\n",
              "      <th>MW</th>\n",
              "      <th>LogP</th>\n",
              "      <th>NumHDonors</th>\n",
              "      <th>NumHAcceptors</th>\n",
              "    </tr>\n",
              "  </thead>\n",
              "  <tbody>\n",
              "    <tr>\n",
              "      <th>0</th>\n",
              "      <td>429.481</td>\n",
              "      <td>0.3826</td>\n",
              "      <td>7.0</td>\n",
              "      <td>9.0</td>\n",
              "    </tr>\n",
              "    <tr>\n",
              "      <th>1</th>\n",
              "      <td>460.447</td>\n",
              "      <td>-0.0100</td>\n",
              "      <td>6.0</td>\n",
              "      <td>9.0</td>\n",
              "    </tr>\n",
              "    <tr>\n",
              "      <th>2</th>\n",
              "      <td>446.464</td>\n",
              "      <td>0.4634</td>\n",
              "      <td>6.0</td>\n",
              "      <td>9.0</td>\n",
              "    </tr>\n",
              "    <tr>\n",
              "      <th>3</th>\n",
              "      <td>432.437</td>\n",
              "      <td>0.4391</td>\n",
              "      <td>7.0</td>\n",
              "      <td>9.0</td>\n",
              "    </tr>\n",
              "    <tr>\n",
              "      <th>4</th>\n",
              "      <td>470.486</td>\n",
              "      <td>0.8478</td>\n",
              "      <td>6.0</td>\n",
              "      <td>9.0</td>\n",
              "    </tr>\n",
              "  </tbody>\n",
              "</table>\n",
              "</div>"
            ],
            "text/plain": [
              "        MW    LogP  NumHDonors  NumHAcceptors\n",
              "0  429.481  0.3826         7.0            9.0\n",
              "1  460.447 -0.0100         6.0            9.0\n",
              "2  446.464  0.4634         6.0            9.0\n",
              "3  432.437  0.4391         7.0            9.0\n",
              "4  470.486  0.8478         6.0            9.0"
            ]
          },
          "metadata": {
            "tags": []
          },
          "execution_count": 6
        }
      ]
    },
    {
      "cell_type": "code",
      "metadata": {
        "colab": {
          "base_uri": "https://localhost:8080/",
          "height": 212
        },
        "id": "w3dHlA0fdE4x",
        "outputId": "cc70b85e-9cf3-48e6-f0ac-dcb0e67ad8a6"
      },
      "source": [
        "df_combined = pd.concat([df,df_lipinski], axis=1)\r\n",
        "\r\n",
        "print(df_combined.shape)\r\n",
        "df_combined.head()"
      ],
      "execution_count": null,
      "outputs": [
        {
          "output_type": "stream",
          "text": [
            "(69, 8)\n"
          ],
          "name": "stdout"
        },
        {
          "output_type": "execute_result",
          "data": {
            "text/html": [
              "<div>\n",
              "<style scoped>\n",
              "    .dataframe tbody tr th:only-of-type {\n",
              "        vertical-align: middle;\n",
              "    }\n",
              "\n",
              "    .dataframe tbody tr th {\n",
              "        vertical-align: top;\n",
              "    }\n",
              "\n",
              "    .dataframe thead th {\n",
              "        text-align: right;\n",
              "    }\n",
              "</style>\n",
              "<table border=\"1\" class=\"dataframe\">\n",
              "  <thead>\n",
              "    <tr style=\"text-align: right;\">\n",
              "      <th></th>\n",
              "      <th>molecule_chembl_id</th>\n",
              "      <th>canonical_smiles</th>\n",
              "      <th>IC50</th>\n",
              "      <th>class</th>\n",
              "      <th>MW</th>\n",
              "      <th>LogP</th>\n",
              "      <th>NumHDonors</th>\n",
              "      <th>NumHAcceptors</th>\n",
              "    </tr>\n",
              "  </thead>\n",
              "  <tbody>\n",
              "    <tr>\n",
              "      <th>0</th>\n",
              "      <td>CHEMBL289923</td>\n",
              "      <td>NCCCC(NC(=O)c1ccc(NCC2CNc3nc(N)nc(O)c3C2)cc1)C...</td>\n",
              "      <td>4800.0</td>\n",
              "      <td>intermediate</td>\n",
              "      <td>429.481</td>\n",
              "      <td>0.3826</td>\n",
              "      <td>7.0</td>\n",
              "      <td>9.0</td>\n",
              "    </tr>\n",
              "    <tr>\n",
              "      <th>1</th>\n",
              "      <td>CHEMBL152172</td>\n",
              "      <td>Nc1nc(N)c(CCCN(C=O)c2ccc(C(=O)NC(CCC(=O)O)C(=O...</td>\n",
              "      <td>18000.0</td>\n",
              "      <td>inactive</td>\n",
              "      <td>460.447</td>\n",
              "      <td>-0.0100</td>\n",
              "      <td>6.0</td>\n",
              "      <td>9.0</td>\n",
              "    </tr>\n",
              "    <tr>\n",
              "      <th>2</th>\n",
              "      <td>CHEMBL153550</td>\n",
              "      <td>CN(CCCc1c(N)nc(N)nc1O)c1ccc(C(=O)NC(CCC(=O)O)C...</td>\n",
              "      <td>4300.0</td>\n",
              "      <td>intermediate</td>\n",
              "      <td>446.464</td>\n",
              "      <td>0.4634</td>\n",
              "      <td>6.0</td>\n",
              "      <td>9.0</td>\n",
              "    </tr>\n",
              "    <tr>\n",
              "      <th>3</th>\n",
              "      <td>CHEMBL13659</td>\n",
              "      <td>Nc1nc(N)c(CCCNc2ccc(C(=O)N[C@@H](CCC(=O)O)C(=O...</td>\n",
              "      <td>630.0</td>\n",
              "      <td>active</td>\n",
              "      <td>432.437</td>\n",
              "      <td>0.4391</td>\n",
              "      <td>7.0</td>\n",
              "      <td>9.0</td>\n",
              "    </tr>\n",
              "    <tr>\n",
              "      <th>4</th>\n",
              "      <td>CHEMBL158034</td>\n",
              "      <td>Nc1nc(O)c2c(n1)NCC1CCN(c3ccc(C(=O)NC(CCC(=O)O)...</td>\n",
              "      <td>20000.0</td>\n",
              "      <td>inactive</td>\n",
              "      <td>470.486</td>\n",
              "      <td>0.8478</td>\n",
              "      <td>6.0</td>\n",
              "      <td>9.0</td>\n",
              "    </tr>\n",
              "  </tbody>\n",
              "</table>\n",
              "</div>"
            ],
            "text/plain": [
              "  molecule_chembl_id  ... NumHAcceptors\n",
              "0       CHEMBL289923  ...           9.0\n",
              "1       CHEMBL152172  ...           9.0\n",
              "2       CHEMBL153550  ...           9.0\n",
              "3        CHEMBL13659  ...           9.0\n",
              "4       CHEMBL158034  ...           9.0\n",
              "\n",
              "[5 rows x 8 columns]"
            ]
          },
          "metadata": {
            "tags": []
          },
          "execution_count": 7
        }
      ]
    },
    {
      "cell_type": "markdown",
      "metadata": {
        "id": "TLejvXHRjQP7"
      },
      "source": [
        "##Convert IC50 to pIC50"
      ]
    },
    {
      "cell_type": "markdown",
      "metadata": {
        "id": "Te6rOA1ckuWY"
      },
      "source": [
        "To allow **IC50** data to be more uniformly distributed, we will convert **IC50** to the negative logarithmic scale which is essentially **-log10(IC50)**."
      ]
    },
    {
      "cell_type": "code",
      "metadata": {
        "id": "WjnoAKY1kj6v"
      },
      "source": [
        "# https://github.com/chaninlab/estrogen-receptor-alpha-qsar/blob/master/02_ER_alpha_RO5.ipynb\r\n",
        "\r\n",
        "import numpy as np\r\n",
        "\r\n",
        "def pIC50(input):\r\n",
        "    pIC50 = []\r\n",
        "\r\n",
        "    for i in input['IC50_norm']:\r\n",
        "        molar = i*(10**-9) # Converts nM to M\r\n",
        "        pIC50.append(-np.log10(molar))\r\n",
        "\r\n",
        "    input['pIC50'] = pIC50\r\n",
        "    x = input.drop('IC50_norm', 1)\r\n",
        "        \r\n",
        "    return x"
      ],
      "execution_count": null,
      "outputs": []
    },
    {
      "cell_type": "markdown",
      "metadata": {
        "id": "ZQopwNnUnzVd"
      },
      "source": [
        "IC50 values that are higher than 100,000,000, will give a negative value after apply the negative logarithmic transformation. To prevent that, before appyling `IC50` function, we will convert all IC50 values in `final_df` that higher than 100,000,000 to the maximum value 100,000,000."
      ]
    },
    {
      "cell_type": "code",
      "metadata": {
        "id": "PuSS9a95lDy-"
      },
      "source": [
        "def norm_value(input):\r\n",
        "    norm = []\r\n",
        "\r\n",
        "    for i in input['IC50']:\r\n",
        "        if i > 100000000:\r\n",
        "          i = 100000000\r\n",
        "        norm.append(i)\r\n",
        "\r\n",
        "    input['IC50_norm'] = norm\r\n",
        "    x = input.drop('IC50', 1)\r\n",
        "        \r\n",
        "    return x"
      ],
      "execution_count": null,
      "outputs": []
    },
    {
      "cell_type": "code",
      "metadata": {
        "colab": {
          "base_uri": "https://localhost:8080/",
          "height": 212
        },
        "id": "Ehx8z4xGlcsV",
        "outputId": "0885bcb0-d1ba-4d1d-d642-73cdeb9c2e74"
      },
      "source": [
        "df_norm = norm_value(df_combined)\r\n",
        "df_final = pIC50(df_norm)\r\n",
        "print(df_final.shape)\r\n",
        "df_final.head()"
      ],
      "execution_count": null,
      "outputs": [
        {
          "output_type": "stream",
          "text": [
            "(69, 8)\n"
          ],
          "name": "stdout"
        },
        {
          "output_type": "execute_result",
          "data": {
            "text/html": [
              "<div>\n",
              "<style scoped>\n",
              "    .dataframe tbody tr th:only-of-type {\n",
              "        vertical-align: middle;\n",
              "    }\n",
              "\n",
              "    .dataframe tbody tr th {\n",
              "        vertical-align: top;\n",
              "    }\n",
              "\n",
              "    .dataframe thead th {\n",
              "        text-align: right;\n",
              "    }\n",
              "</style>\n",
              "<table border=\"1\" class=\"dataframe\">\n",
              "  <thead>\n",
              "    <tr style=\"text-align: right;\">\n",
              "      <th></th>\n",
              "      <th>molecule_chembl_id</th>\n",
              "      <th>canonical_smiles</th>\n",
              "      <th>class</th>\n",
              "      <th>MW</th>\n",
              "      <th>LogP</th>\n",
              "      <th>NumHDonors</th>\n",
              "      <th>NumHAcceptors</th>\n",
              "      <th>pIC50</th>\n",
              "    </tr>\n",
              "  </thead>\n",
              "  <tbody>\n",
              "    <tr>\n",
              "      <th>0</th>\n",
              "      <td>CHEMBL289923</td>\n",
              "      <td>NCCCC(NC(=O)c1ccc(NCC2CNc3nc(N)nc(O)c3C2)cc1)C...</td>\n",
              "      <td>intermediate</td>\n",
              "      <td>429.481</td>\n",
              "      <td>0.3826</td>\n",
              "      <td>7.0</td>\n",
              "      <td>9.0</td>\n",
              "      <td>5.318759</td>\n",
              "    </tr>\n",
              "    <tr>\n",
              "      <th>1</th>\n",
              "      <td>CHEMBL152172</td>\n",
              "      <td>Nc1nc(N)c(CCCN(C=O)c2ccc(C(=O)NC(CCC(=O)O)C(=O...</td>\n",
              "      <td>inactive</td>\n",
              "      <td>460.447</td>\n",
              "      <td>-0.0100</td>\n",
              "      <td>6.0</td>\n",
              "      <td>9.0</td>\n",
              "      <td>4.744727</td>\n",
              "    </tr>\n",
              "    <tr>\n",
              "      <th>2</th>\n",
              "      <td>CHEMBL153550</td>\n",
              "      <td>CN(CCCc1c(N)nc(N)nc1O)c1ccc(C(=O)NC(CCC(=O)O)C...</td>\n",
              "      <td>intermediate</td>\n",
              "      <td>446.464</td>\n",
              "      <td>0.4634</td>\n",
              "      <td>6.0</td>\n",
              "      <td>9.0</td>\n",
              "      <td>5.366532</td>\n",
              "    </tr>\n",
              "    <tr>\n",
              "      <th>3</th>\n",
              "      <td>CHEMBL13659</td>\n",
              "      <td>Nc1nc(N)c(CCCNc2ccc(C(=O)N[C@@H](CCC(=O)O)C(=O...</td>\n",
              "      <td>active</td>\n",
              "      <td>432.437</td>\n",
              "      <td>0.4391</td>\n",
              "      <td>7.0</td>\n",
              "      <td>9.0</td>\n",
              "      <td>6.200659</td>\n",
              "    </tr>\n",
              "    <tr>\n",
              "      <th>4</th>\n",
              "      <td>CHEMBL158034</td>\n",
              "      <td>Nc1nc(O)c2c(n1)NCC1CCN(c3ccc(C(=O)NC(CCC(=O)O)...</td>\n",
              "      <td>inactive</td>\n",
              "      <td>470.486</td>\n",
              "      <td>0.8478</td>\n",
              "      <td>6.0</td>\n",
              "      <td>9.0</td>\n",
              "      <td>4.698970</td>\n",
              "    </tr>\n",
              "  </tbody>\n",
              "</table>\n",
              "</div>"
            ],
            "text/plain": [
              "  molecule_chembl_id  ...     pIC50\n",
              "0       CHEMBL289923  ...  5.318759\n",
              "1       CHEMBL152172  ...  4.744727\n",
              "2       CHEMBL153550  ...  5.366532\n",
              "3        CHEMBL13659  ...  6.200659\n",
              "4       CHEMBL158034  ...  4.698970\n",
              "\n",
              "[5 rows x 8 columns]"
            ]
          },
          "metadata": {
            "tags": []
          },
          "execution_count": 11
        }
      ]
    },
    {
      "cell_type": "markdown",
      "metadata": {
        "id": "HVDzQ8l4iZX5"
      },
      "source": [
        "Save `df_final` to a CSV file"
      ]
    },
    {
      "cell_type": "code",
      "metadata": {
        "id": "R8R6sLOVijDx"
      },
      "source": [
        "df_final.to_csv(\"GAR_transformylase_04_bioactivity_data_3class_pIC50.csv\", index = False)"
      ],
      "execution_count": null,
      "outputs": []
    },
    {
      "cell_type": "code",
      "metadata": {
        "id": "-W-QxVKAjPud"
      },
      "source": [
        "import seaborn as sns\r\n",
        "import matplotlib.pyplot as plt\r\n",
        "\r\n",
        "fig, ax = plt.subplots(1,2, figsize=(10,4))\r\n",
        "sns.boxplot(data= df_combined, x= df_combined['IC50'], ax = ax[0])\r\n",
        "sns.boxplot(data= df_final, x= df_final['pIC50'], ax = ax[1])\r\n",
        "ax[0].set_xlabel('IC50', size = 14)\r\n",
        "ax[1].set_xlabel('pIC50', size = 14)"
      ],
      "execution_count": null,
      "outputs": []
    },
    {
      "cell_type": "markdown",
      "metadata": {
        "id": "X7Jbf9VEt2O3"
      },
      "source": [
        "##Remove the 'intermediate' bioactivy class"
      ]
    },
    {
      "cell_type": "code",
      "metadata": {
        "id": "wN-NAyXVuCiG"
      },
      "source": [
        "final_two_classes = df_final[df_final['class'] != 'intermediate']\r\n",
        "\r\n",
        "print(final_two_classes.shape)\r\n",
        "final_two_classes.head()"
      ],
      "execution_count": null,
      "outputs": []
    },
    {
      "cell_type": "markdown",
      "metadata": {
        "id": "vjDztBeJvs1e"
      },
      "source": [
        "##Exploratory Data Analysis (Chemical Space Analysis) via Lipinski descriptors"
      ]
    },
    {
      "cell_type": "markdown",
      "metadata": {
        "id": "-jRgEU6sviHv"
      },
      "source": [
        "###Frequency plot of the two bioactivity classes (active - inactive)"
      ]
    },
    {
      "cell_type": "code",
      "metadata": {
        "id": "WzjVy8cNvhio"
      },
      "source": [
        "plt.figure(figsize=(5.5, 5.5))\r\n",
        "\r\n",
        "sns.countplot(x='class', data=final_two_classes, edgecolor='black')\r\n",
        "\r\n",
        "plt.xlabel('Bioactivity class', fontsize=14, fontweight='bold')\r\n",
        "plt.ylabel('Frequency', fontsize=14, fontweight='bold')\r\n",
        "\r\n",
        "plt.savefig('plot_bioactivity_class.pdf')"
      ],
      "execution_count": null,
      "outputs": []
    },
    {
      "cell_type": "markdown",
      "metadata": {
        "id": "gEvBnWs_xClE"
      },
      "source": [
        "###Scatterplot of the MW verus LogP"
      ]
    },
    {
      "cell_type": "code",
      "metadata": {
        "id": "UIVBA26NxOgB"
      },
      "source": [
        "plt.figure(figsize=(6, 6))\r\n",
        "\r\n",
        "sns.scatterplot(x='MW', y='LogP', data=final_two_classes, hue='class', size='pIC50', alpha=0.7)\r\n",
        "\r\n",
        "plt.xlabel('MW', fontsize=14, fontweight='bold')\r\n",
        "plt.ylabel('LogP', fontsize=14, fontweight='bold')\r\n",
        "plt.legend(bbox_to_anchor=(1.05, 1), loc=2, borderaxespad=0)\r\n",
        "plt.savefig('plot_MW_vs_LogP.pdf')"
      ],
      "execution_count": null,
      "outputs": []
    },
    {
      "cell_type": "markdown",
      "metadata": {
        "id": "czTSMr2DyQZA"
      },
      "source": [
        "Noticably, the active compounds have higher LogP (solubility) and higher pIC50 than the inactive compounds."
      ]
    },
    {
      "cell_type": "markdown",
      "metadata": {
        "id": "uLEGW9SvejDl"
      },
      "source": [
        "###Mann-Whitney U test function"
      ]
    },
    {
      "cell_type": "code",
      "metadata": {
        "id": "lR09pM2zeR1H"
      },
      "source": [
        "def mannwhitney(descriptor, verbose=False):\r\n",
        "  # https://machinelearningmastery.com/nonparametric-statistical-significance-tests-in-python/\r\n",
        "  from numpy.random import seed\r\n",
        "  from numpy.random import randn\r\n",
        "  from scipy.stats import mannwhitneyu\r\n",
        "\r\n",
        "# seed the random number generator\r\n",
        "  seed(1)\r\n",
        "\r\n",
        "# actives and inactives\r\n",
        "  selection = [descriptor, 'class']\r\n",
        "  df = final_two_classes[selection]\r\n",
        "  active = df[df['class'] == 'active']\r\n",
        "  active = active[descriptor]\r\n",
        "\r\n",
        "  selection = [descriptor, 'class']\r\n",
        "  df = final_two_classes[selection]\r\n",
        "  inactive = df[df['class'] == 'inactive']\r\n",
        "  inactive = inactive[descriptor]\r\n",
        "\r\n",
        "# compare samples\r\n",
        "  stat, p = mannwhitneyu(active, inactive)\r\n",
        "  #print('Statistics=%.3f, p=%.3f' % (stat, p))\r\n",
        "\r\n",
        "# interpret\r\n",
        "  alpha = 0.05\r\n",
        "  if p > alpha:\r\n",
        "    interpretation = 'Same distribution (fail to reject H0)'\r\n",
        "  else:\r\n",
        "    interpretation = 'Different distribution (reject H0)'\r\n",
        "  \r\n",
        "  results = pd.DataFrame({'Descriptor':descriptor,\r\n",
        "                          'Statistics':stat,\r\n",
        "                          'p':p,\r\n",
        "                          'alpha':alpha,\r\n",
        "                          'Interpretation':interpretation}, index=[0])\r\n",
        "  filename = 'mannwhitneyu_' + descriptor + '.csv'\r\n",
        "  results.to_csv(filename)\r\n",
        "\r\n",
        "  return results"
      ],
      "execution_count": null,
      "outputs": []
    },
    {
      "cell_type": "markdown",
      "metadata": {
        "id": "E_seI_5hYLr1"
      },
      "source": [
        "### pIC50 of active and inactive compounds (boxplot and MannWhitney U test)"
      ]
    },
    {
      "cell_type": "code",
      "metadata": {
        "id": "ETdgsl-pYWkC"
      },
      "source": [
        "plt.figure(figsize=(5.5, 5.5))\r\n",
        "\r\n",
        "sns.boxplot(x = 'class', y = 'pIC50', data = final_two_classes)\r\n",
        "\r\n",
        "plt.xlabel('Bioactivity class', fontsize=14, fontweight='bold')\r\n",
        "plt.ylabel('pIC50', fontsize=14, fontweight='bold')\r\n",
        "\r\n",
        "plt.savefig('plot_ic50.pdf')"
      ],
      "execution_count": null,
      "outputs": []
    },
    {
      "cell_type": "markdown",
      "metadata": {
        "id": "Y3FfI_ohZsq7"
      },
      "source": [
        "By definition, pIC50 value is lower than 5 for the class of inactive compounds and higher than 6 for the class of active compounds.\r\n",
        "\r\n",
        "With further notice, inside the class of inactive compounds the pIC50 values are densly distributed between 4 and 5, while inside the class of active compounds pIC50 values are more widely distributed between 6 and 9.\r\n",
        "\r\n",
        "Inside the class of active compounds some outlier pIC50 values around 11.5, 12 and 13 are also noticable. "
      ]
    },
    {
      "cell_type": "code",
      "metadata": {
        "id": "gn9_tQDCfLsj"
      },
      "source": [
        "mannwhitney('pIC50')"
      ],
      "execution_count": null,
      "outputs": []
    },
    {
      "cell_type": "markdown",
      "metadata": {
        "id": "8nJtIR_Ja9UB"
      },
      "source": [
        "### MW of active and inactive classes (boxplot and MannWhitney U test)"
      ]
    },
    {
      "cell_type": "code",
      "metadata": {
        "id": "fc-CJBlVcIQT"
      },
      "source": [
        "plt.figure(figsize=(5.5, 5.5))\r\n",
        "\r\n",
        "sns.boxplot(x = 'class', y = 'MW', data = final_two_classes)\r\n",
        "\r\n",
        "plt.xlabel('Bioactivity class', fontsize=14, fontweight='bold')\r\n",
        "plt.ylabel('MW', fontsize=14, fontweight='bold')\r\n",
        "\r\n",
        "plt.savefig('plot_MW.pdf')"
      ],
      "execution_count": null,
      "outputs": []
    },
    {
      "cell_type": "code",
      "metadata": {
        "id": "C64PT2XHfnGA"
      },
      "source": [
        "mannwhitney('MW')"
      ],
      "execution_count": null,
      "outputs": []
    },
    {
      "cell_type": "markdown",
      "metadata": {
        "id": "-z4kuXOGcWop"
      },
      "source": [
        "### logP of active and inactive compounds (boxplot and MannWhitney U test)"
      ]
    },
    {
      "cell_type": "code",
      "metadata": {
        "id": "be_-ZRgBca5u"
      },
      "source": [
        "plt.figure(figsize=(5.5, 5.5))\r\n",
        "\r\n",
        "sns.boxplot(x = 'class', y = 'LogP', data = final_two_classes)\r\n",
        "\r\n",
        "plt.xlabel('Bioactivity class', fontsize=14, fontweight='bold')\r\n",
        "plt.ylabel('LogP', fontsize=14, fontweight='bold')\r\n",
        "\r\n",
        "plt.savefig('plot_LogP.pdf')"
      ],
      "execution_count": null,
      "outputs": []
    },
    {
      "cell_type": "code",
      "metadata": {
        "id": "eIH-5cujfqRb"
      },
      "source": [
        "mannwhitney('LogP')"
      ],
      "execution_count": null,
      "outputs": []
    },
    {
      "cell_type": "markdown",
      "metadata": {
        "id": "d5ZprC03dAAL"
      },
      "source": [
        "###NumHDonors of active and inactive compounds (boxplot and MannWhitney U test)"
      ]
    },
    {
      "cell_type": "code",
      "metadata": {
        "id": "YbPCEaSLdV1l"
      },
      "source": [
        "plt.figure(figsize=(5.5, 5.5))\r\n",
        "\r\n",
        "sns.boxplot(x = 'class', y = 'NumHDonors', data = final_two_classes)\r\n",
        "\r\n",
        "plt.xlabel('Bioactivity class', fontsize=14, fontweight='bold')\r\n",
        "plt.ylabel('NumHDonors', fontsize=14, fontweight='bold')\r\n",
        "\r\n",
        "plt.savefig('plot_NumHDonors.pdf')"
      ],
      "execution_count": null,
      "outputs": []
    },
    {
      "cell_type": "code",
      "metadata": {
        "id": "HU_xCR6Qfs1t"
      },
      "source": [
        "mannwhitney('NumHDonors')"
      ],
      "execution_count": null,
      "outputs": []
    },
    {
      "cell_type": "markdown",
      "metadata": {
        "id": "Njy-DAjVdreL"
      },
      "source": [
        "###NumHAcceptors of active and inactive compounds (boxplot and MannWhitney U test)"
      ]
    },
    {
      "cell_type": "code",
      "metadata": {
        "id": "JAEYVTJqdyXB"
      },
      "source": [
        "plt.figure(figsize=(5.5, 5.5))\r\n",
        "\r\n",
        "sns.boxplot(x = 'class', y = 'NumHAcceptors', data = final_two_classes)\r\n",
        "\r\n",
        "plt.xlabel('Bioactivity class', fontsize=14, fontweight='bold')\r\n",
        "plt.ylabel('NumHAcceptors', fontsize=14, fontweight='bold')\r\n",
        "\r\n",
        "plt.savefig('plot_NumHAcceptors.pdf')"
      ],
      "execution_count": null,
      "outputs": []
    },
    {
      "cell_type": "code",
      "metadata": {
        "id": "La5Wy0t5fwpt"
      },
      "source": [
        "mannwhitney('NumHAcceptors')"
      ],
      "execution_count": null,
      "outputs": []
    },
    {
      "cell_type": "markdown",
      "metadata": {
        "id": "KFgrGyo_kL6C"
      },
      "source": [
        "###Notes on the results of the statistical tests"
      ]
    },
    {
      "cell_type": "markdown",
      "metadata": {
        "id": "Ti_XdZO9kQhs"
      },
      "source": [
        "**pIC50** values between the **active** and **inactive** compounds displayed s*tatistically significant difference*, which was expected because of the way the two classes of compounds where defined `(IC50 < 1,000 nM = Actives while IC50 > 10,000 nM = Inactives`, corresponding to `pIC50 > 6 = Actives and pIC50 < 5 = Inactives`).\r\n",
        "\r\n",
        "Out of the four Lipinski molecular descriptors (LogP, MW, NumHDonors,NumHAccptors), the two, **LogP** and **NumHAcceptors**, exhibited *statistically significant difference* between the **active** and the **inactive** compounds."
      ]
    },
    {
      "cell_type": "markdown",
      "metadata": {
        "id": "y-evonFTpk_p"
      },
      "source": [
        "##Zip the resulting files"
      ]
    },
    {
      "cell_type": "code",
      "metadata": {
        "id": "1gDagONUpiFN"
      },
      "source": [
        "! zip -r results.zip . -i *.csv *.pdf"
      ],
      "execution_count": null,
      "outputs": []
    }
  ]
}